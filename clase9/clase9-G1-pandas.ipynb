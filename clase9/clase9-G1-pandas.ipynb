{
 "cells": [
  {
   "cell_type": "code",
   "execution_count": 1,
   "metadata": {},
   "outputs": [],
   "source": [
    "#pip install pandas\n",
    "#pip install numpy\n",
    "#pip install matplotlib"
   ]
  },
  {
   "cell_type": "code",
   "execution_count": 2,
   "metadata": {},
   "outputs": [],
   "source": [
    "import pandas as pd  "
   ]
  },
  {
   "cell_type": "code",
   "execution_count": 5,
   "metadata": {},
   "outputs": [],
   "source": [
    "#help(pd)"
   ]
  },
  {
   "cell_type": "code",
   "execution_count": 35,
   "metadata": {},
   "outputs": [],
   "source": [
    "df = pd.read_csv(\"demo.csv\" ,names=[\"user name\",\"amount\" , \"id\", \"date\"])"
   ]
  },
  {
   "cell_type": "code",
   "execution_count": 36,
   "metadata": {},
   "outputs": [
    {
     "data": {
      "text/html": [
       "<div>\n",
       "<style scoped>\n",
       "    .dataframe tbody tr th:only-of-type {\n",
       "        vertical-align: middle;\n",
       "    }\n",
       "\n",
       "    .dataframe tbody tr th {\n",
       "        vertical-align: top;\n",
       "    }\n",
       "\n",
       "    .dataframe thead th {\n",
       "        text-align: right;\n",
       "    }\n",
       "</style>\n",
       "<table border=\"1\" class=\"dataframe\">\n",
       "  <thead>\n",
       "    <tr style=\"text-align: right;\">\n",
       "      <th></th>\n",
       "      <th>user name</th>\n",
       "      <th>amount</th>\n",
       "      <th>id</th>\n",
       "      <th>date</th>\n",
       "    </tr>\n",
       "  </thead>\n",
       "  <tbody>\n",
       "    <tr>\n",
       "      <th>0</th>\n",
       "      <td>Sylvester Sykes</td>\n",
       "      <td>9014.58</td>\n",
       "      <td>1009014458</td>\n",
       "      <td>2018-10-24</td>\n",
       "    </tr>\n",
       "    <tr>\n",
       "      <th>1</th>\n",
       "      <td>Brandon Wheeler</td>\n",
       "      <td>8590.93</td>\n",
       "      <td>1006789262</td>\n",
       "      <td>2018-10-24</td>\n",
       "    </tr>\n",
       "    <tr>\n",
       "      <th>2</th>\n",
       "      <td>Wing Roth</td>\n",
       "      <td>25660.92</td>\n",
       "      <td>1025660292</td>\n",
       "      <td>2018-10-24</td>\n",
       "    </tr>\n",
       "    <tr>\n",
       "      <th>3</th>\n",
       "      <td>Zachary Roth</td>\n",
       "      <td>9178.23</td>\n",
       "      <td>1009178723</td>\n",
       "      <td>2018-10-24</td>\n",
       "    </tr>\n",
       "    <tr>\n",
       "      <th>4</th>\n",
       "      <td>Otto Barron</td>\n",
       "      <td>6754.46</td>\n",
       "      <td>1006754446</td>\n",
       "      <td>2018-10-24</td>\n",
       "    </tr>\n",
       "    <tr>\n",
       "      <th>5</th>\n",
       "      <td>Gavin Mcleod</td>\n",
       "      <td>10447.75</td>\n",
       "      <td>1010447375</td>\n",
       "      <td>2018-10-24</td>\n",
       "    </tr>\n",
       "  </tbody>\n",
       "</table>\n",
       "</div>"
      ],
      "text/plain": [
       "         user name    amount          id        date\n",
       "0  Sylvester Sykes   9014.58  1009014458  2018-10-24\n",
       "1  Brandon Wheeler   8590.93  1006789262  2018-10-24\n",
       "2        Wing Roth  25660.92  1025660292  2018-10-24\n",
       "3     Zachary Roth   9178.23  1009178723  2018-10-24\n",
       "4      Otto Barron   6754.46  1006754446  2018-10-24\n",
       "5     Gavin Mcleod  10447.75  1010447375  2018-10-24"
      ]
     },
     "execution_count": 36,
     "metadata": {},
     "output_type": "execute_result"
    }
   ],
   "source": [
    "df.head(6)"
   ]
  },
  {
   "cell_type": "code",
   "execution_count": 37,
   "metadata": {},
   "outputs": [
    {
     "data": {
      "text/html": [
       "<div>\n",
       "<style scoped>\n",
       "    .dataframe tbody tr th:only-of-type {\n",
       "        vertical-align: middle;\n",
       "    }\n",
       "\n",
       "    .dataframe tbody tr th {\n",
       "        vertical-align: top;\n",
       "    }\n",
       "\n",
       "    .dataframe thead th {\n",
       "        text-align: right;\n",
       "    }\n",
       "</style>\n",
       "<table border=\"1\" class=\"dataframe\">\n",
       "  <thead>\n",
       "    <tr style=\"text-align: right;\">\n",
       "      <th></th>\n",
       "      <th>user name</th>\n",
       "      <th>amount</th>\n",
       "      <th>id</th>\n",
       "      <th>date</th>\n",
       "    </tr>\n",
       "  </thead>\n",
       "  <tbody>\n",
       "    <tr>\n",
       "      <th>96</th>\n",
       "      <td>Nathaniel Sanford</td>\n",
       "      <td>73541.17</td>\n",
       "      <td>1007354117</td>\n",
       "      <td>2018-08-05</td>\n",
       "    </tr>\n",
       "    <tr>\n",
       "      <th>97</th>\n",
       "      <td>Drew Cummings</td>\n",
       "      <td>72015.79</td>\n",
       "      <td>1007201579</td>\n",
       "      <td>2019-08-26</td>\n",
       "    </tr>\n",
       "    <tr>\n",
       "      <th>98</th>\n",
       "      <td>Christopher Morto</td>\n",
       "      <td>25694.88</td>\n",
       "      <td>8000061942</td>\n",
       "      <td>2019-12-08</td>\n",
       "    </tr>\n",
       "  </tbody>\n",
       "</table>\n",
       "</div>"
      ],
      "text/plain": [
       "            user name    amount          id        date\n",
       "96  Nathaniel Sanford  73541.17  1007354117  2018-08-05\n",
       "97      Drew Cummings  72015.79  1007201579  2019-08-26\n",
       "98  Christopher Morto  25694.88  8000061942  2019-12-08"
      ]
     },
     "execution_count": 37,
     "metadata": {},
     "output_type": "execute_result"
    }
   ],
   "source": [
    "df.tail(3)"
   ]
  },
  {
   "cell_type": "code",
   "execution_count": 20,
   "metadata": {},
   "outputs": [],
   "source": [
    "#df"
   ]
  },
  {
   "cell_type": "code",
   "execution_count": 24,
   "metadata": {},
   "outputs": [],
   "source": [
    "#df[\"new_column\"] = True\n",
    "\n",
    "df[\"new_column\"] = 1                              #Literal\n",
    "\n",
    "df[\"new_column2\"] = df[\"amount\"]*2       # transformacion"
   ]
  },
  {
   "cell_type": "code",
   "execution_count": 39,
   "metadata": {},
   "outputs": [
    {
     "data": {
      "text/plain": [
       "0       Sylvester Sykes\n",
       "1       Brandon Wheeler\n",
       "2             Wing Roth\n",
       "3          Zachary Roth\n",
       "4           Otto Barron\n",
       "            ...        \n",
       "94        Jakeem Bowers\n",
       "95         Ross Pittman\n",
       "96    Nathaniel Sanford\n",
       "97        Drew Cummings\n",
       "98    Christopher Morto\n",
       "Name: user name, Length: 99, dtype: object"
      ]
     },
     "execution_count": 39,
     "metadata": {},
     "output_type": "execute_result"
    }
   ],
   "source": [
    "# Como acceder a la columna (serie)\n",
    "df[\"user name\"]\n",
    "\n",
    "#df.user name "
   ]
  },
  {
   "cell_type": "code",
   "execution_count": 40,
   "metadata": {},
   "outputs": [],
   "source": [
    "from random import random"
   ]
  },
  {
   "cell_type": "code",
   "execution_count": 41,
   "metadata": {},
   "outputs": [
    {
     "data": {
      "text/plain": [
       "0.13248857891383947"
      ]
     },
     "execution_count": 41,
     "metadata": {},
     "output_type": "execute_result"
    }
   ],
   "source": [
    "random()"
   ]
  },
  {
   "cell_type": "code",
   "execution_count": 49,
   "metadata": {},
   "outputs": [],
   "source": [
    "a_func = lambda fila : fila * random()\n",
    "\n",
    "df[\"random_amount\"]  = df.amount.apply(a_func)"
   ]
  },
  {
   "cell_type": "code",
   "execution_count": 50,
   "metadata": {},
   "outputs": [],
   "source": [
    "df[\"division\"] = df.amount / df.random_amount"
   ]
  },
  {
   "cell_type": "markdown",
   "metadata": {},
   "source": [
    "Sepremos el nombre por nombre y apellido"
   ]
  },
  {
   "cell_type": "code",
   "execution_count": 70,
   "metadata": {},
   "outputs": [],
   "source": [
    "df = pd.read_csv(\"demo.csv\" ,names=[\"user name\",\"amount\" , \"id\", \"date\"])"
   ]
  },
  {
   "cell_type": "code",
   "execution_count": 59,
   "metadata": {},
   "outputs": [],
   "source": [
    "a_func1 = lambda linea : linea.split(\" \")[0]\n",
    "a_func2 = lambda linea : linea.split(\" \")[1]\n",
    "\n",
    "df[\"name\"] = df[\"user name\"].apply(a_func1)\n",
    "df[\"lastName\"] = df[\"user name\"].apply(a_func2)"
   ]
  },
  {
   "cell_type": "code",
   "execution_count": 71,
   "metadata": {},
   "outputs": [
    {
     "data": {
      "text/html": [
       "<div>\n",
       "<style scoped>\n",
       "    .dataframe tbody tr th:only-of-type {\n",
       "        vertical-align: middle;\n",
       "    }\n",
       "\n",
       "    .dataframe tbody tr th {\n",
       "        vertical-align: top;\n",
       "    }\n",
       "\n",
       "    .dataframe thead th {\n",
       "        text-align: right;\n",
       "    }\n",
       "</style>\n",
       "<table border=\"1\" class=\"dataframe\">\n",
       "  <thead>\n",
       "    <tr style=\"text-align: right;\">\n",
       "      <th></th>\n",
       "      <th>user name</th>\n",
       "      <th>amount</th>\n",
       "      <th>id</th>\n",
       "      <th>date</th>\n",
       "    </tr>\n",
       "  </thead>\n",
       "  <tbody>\n",
       "    <tr>\n",
       "      <th>0</th>\n",
       "      <td>Sylvester Sykes</td>\n",
       "      <td>9014.58</td>\n",
       "      <td>1009014458</td>\n",
       "      <td>2018-10-24</td>\n",
       "    </tr>\n",
       "    <tr>\n",
       "      <th>1</th>\n",
       "      <td>Brandon Wheeler</td>\n",
       "      <td>8590.93</td>\n",
       "      <td>1006789262</td>\n",
       "      <td>2018-10-24</td>\n",
       "    </tr>\n",
       "    <tr>\n",
       "      <th>2</th>\n",
       "      <td>Wing Roth</td>\n",
       "      <td>25660.92</td>\n",
       "      <td>1025660292</td>\n",
       "      <td>2018-10-24</td>\n",
       "    </tr>\n",
       "    <tr>\n",
       "      <th>3</th>\n",
       "      <td>Zachary Roth</td>\n",
       "      <td>9178.23</td>\n",
       "      <td>1009178723</td>\n",
       "      <td>2018-10-24</td>\n",
       "    </tr>\n",
       "    <tr>\n",
       "      <th>4</th>\n",
       "      <td>Otto Barron</td>\n",
       "      <td>6754.46</td>\n",
       "      <td>1006754446</td>\n",
       "      <td>2018-10-24</td>\n",
       "    </tr>\n",
       "    <tr>\n",
       "      <th>...</th>\n",
       "      <td>...</td>\n",
       "      <td>...</td>\n",
       "      <td>...</td>\n",
       "      <td>...</td>\n",
       "    </tr>\n",
       "    <tr>\n",
       "      <th>94</th>\n",
       "      <td>Jakeem Bowers</td>\n",
       "      <td>21281.47</td>\n",
       "      <td>1021281747</td>\n",
       "      <td>2018-11-29</td>\n",
       "    </tr>\n",
       "    <tr>\n",
       "      <th>95</th>\n",
       "      <td>Ross Pittman</td>\n",
       "      <td>72924.95</td>\n",
       "      <td>8000022770</td>\n",
       "      <td>2018-07-23</td>\n",
       "    </tr>\n",
       "    <tr>\n",
       "      <th>96</th>\n",
       "      <td>Nathaniel Sanford</td>\n",
       "      <td>73541.17</td>\n",
       "      <td>1007354117</td>\n",
       "      <td>2018-08-05</td>\n",
       "    </tr>\n",
       "    <tr>\n",
       "      <th>97</th>\n",
       "      <td>Drew Cummings</td>\n",
       "      <td>72015.79</td>\n",
       "      <td>1007201579</td>\n",
       "      <td>2019-08-26</td>\n",
       "    </tr>\n",
       "    <tr>\n",
       "      <th>98</th>\n",
       "      <td>Christopher Morto</td>\n",
       "      <td>25694.88</td>\n",
       "      <td>8000061942</td>\n",
       "      <td>2019-12-08</td>\n",
       "    </tr>\n",
       "  </tbody>\n",
       "</table>\n",
       "<p>99 rows × 4 columns</p>\n",
       "</div>"
      ],
      "text/plain": [
       "            user name    amount          id        date\n",
       "0     Sylvester Sykes   9014.58  1009014458  2018-10-24\n",
       "1     Brandon Wheeler   8590.93  1006789262  2018-10-24\n",
       "2           Wing Roth  25660.92  1025660292  2018-10-24\n",
       "3        Zachary Roth   9178.23  1009178723  2018-10-24\n",
       "4         Otto Barron   6754.46  1006754446  2018-10-24\n",
       "..                ...       ...         ...         ...\n",
       "94      Jakeem Bowers  21281.47  1021281747  2018-11-29\n",
       "95       Ross Pittman  72924.95  8000022770  2018-07-23\n",
       "96  Nathaniel Sanford  73541.17  1007354117  2018-08-05\n",
       "97      Drew Cummings  72015.79  1007201579  2019-08-26\n",
       "98  Christopher Morto  25694.88  8000061942  2019-12-08\n",
       "\n",
       "[99 rows x 4 columns]"
      ]
     },
     "execution_count": 71,
     "metadata": {},
     "output_type": "execute_result"
    }
   ],
   "source": [
    "df"
   ]
  },
  {
   "cell_type": "code",
   "execution_count": 75,
   "metadata": {},
   "outputs": [],
   "source": [
    "a_func1 = lambda linea : (linea.split(\" \")[0],linea.split(\" \")[1])\n",
    "\n",
    "\n",
    "df[\"x\"] = df[\"user name\"].apply(a_func1)\n",
    "\n",
    "#df"
   ]
  },
  {
   "cell_type": "code",
   "execution_count": 78,
   "metadata": {},
   "outputs": [],
   "source": [
    "df = pd.read_csv(\"demo.csv\" ,names=[\"user name\",\"amount\" , \"id\", \"date\"])"
   ]
  },
  {
   "cell_type": "code",
   "execution_count": 84,
   "metadata": {},
   "outputs": [],
   "source": [
    "df[[\"name\" ,\"lastName\"]] = df[\"user name\"].str.split(' ', expand=True )\n",
    "\n",
    "#df"
   ]
  },
  {
   "cell_type": "markdown",
   "metadata": {},
   "source": [
    "####  Apply Map"
   ]
  },
  {
   "cell_type": "code",
   "execution_count": 85,
   "metadata": {},
   "outputs": [],
   "source": [
    "import numpy as np"
   ]
  },
  {
   "cell_type": "code",
   "execution_count": 86,
   "metadata": {},
   "outputs": [
    {
     "data": {
      "text/plain": [
       "nan"
      ]
     },
     "execution_count": 86,
     "metadata": {},
     "output_type": "execute_result"
    }
   ],
   "source": [
    "np.nan"
   ]
  },
  {
   "cell_type": "code",
   "execution_count": 93,
   "metadata": {},
   "outputs": [
    {
     "data": {
      "text/plain": [
       "0.09091212376571067"
      ]
     },
     "execution_count": 93,
     "metadata": {},
     "output_type": "execute_result"
    }
   ],
   "source": [
    "random() "
   ]
  },
  {
   "cell_type": "code",
   "execution_count": 104,
   "metadata": {},
   "outputs": [],
   "source": [
    "import random\n",
    "#from random import rnd\n",
    "\n",
    "random.seed(10)"
   ]
  },
  {
   "cell_type": "code",
   "execution_count": 107,
   "metadata": {},
   "outputs": [],
   "source": [
    "ponerNulos = lambda x :  np.nan if (  random.random() < 0.3) else x\n",
    "\n",
    "df1 = df.applymap(ponerNulos)"
   ]
  },
  {
   "cell_type": "markdown",
   "metadata": {},
   "source": [
    "#### dropna"
   ]
  },
  {
   "cell_type": "code",
   "execution_count": 111,
   "metadata": {},
   "outputs": [],
   "source": [
    "df1.dropna(inplace=True)"
   ]
  },
  {
   "cell_type": "code",
   "execution_count": 112,
   "metadata": {},
   "outputs": [
    {
     "data": {
      "text/html": [
       "<div>\n",
       "<style scoped>\n",
       "    .dataframe tbody tr th:only-of-type {\n",
       "        vertical-align: middle;\n",
       "    }\n",
       "\n",
       "    .dataframe tbody tr th {\n",
       "        vertical-align: top;\n",
       "    }\n",
       "\n",
       "    .dataframe thead th {\n",
       "        text-align: right;\n",
       "    }\n",
       "</style>\n",
       "<table border=\"1\" class=\"dataframe\">\n",
       "  <thead>\n",
       "    <tr style=\"text-align: right;\">\n",
       "      <th></th>\n",
       "      <th>user name</th>\n",
       "      <th>amount</th>\n",
       "      <th>id</th>\n",
       "      <th>date</th>\n",
       "      <th>name</th>\n",
       "      <th>lastName</th>\n",
       "    </tr>\n",
       "  </thead>\n",
       "  <tbody>\n",
       "    <tr>\n",
       "      <th>5</th>\n",
       "      <td>Gavin Mcleod</td>\n",
       "      <td>10447.75</td>\n",
       "      <td>1.010447e+09</td>\n",
       "      <td>2018-10-24</td>\n",
       "      <td>Gavin</td>\n",
       "      <td>Mcleod</td>\n",
       "    </tr>\n",
       "    <tr>\n",
       "      <th>8</th>\n",
       "      <td>Ryan Wilson</td>\n",
       "      <td>8587.07</td>\n",
       "      <td>1.008587e+09</td>\n",
       "      <td>2018-10-24</td>\n",
       "      <td>Ryan</td>\n",
       "      <td>Wilson</td>\n",
       "    </tr>\n",
       "    <tr>\n",
       "      <th>16</th>\n",
       "      <td>Travis Terry</td>\n",
       "      <td>76812.81</td>\n",
       "      <td>1.007681e+09</td>\n",
       "      <td>2018-10-24</td>\n",
       "      <td>Travis</td>\n",
       "      <td>Terry</td>\n",
       "    </tr>\n",
       "    <tr>\n",
       "      <th>22</th>\n",
       "      <td>Geoffrey Adkins</td>\n",
       "      <td>66865.65</td>\n",
       "      <td>8.000041e+09</td>\n",
       "      <td>2018-10-24</td>\n",
       "      <td>Geoffrey</td>\n",
       "      <td>Adkins</td>\n",
       "    </tr>\n",
       "    <tr>\n",
       "      <th>23</th>\n",
       "      <td>Yoshio Daniel</td>\n",
       "      <td>6099.00</td>\n",
       "      <td>1.000006e+09</td>\n",
       "      <td>2018-10-24</td>\n",
       "      <td>Yoshio</td>\n",
       "      <td>Daniel</td>\n",
       "    </tr>\n",
       "    <tr>\n",
       "      <th>25</th>\n",
       "      <td>Dustin Brennan</td>\n",
       "      <td>6524.38</td>\n",
       "      <td>1.006525e+09</td>\n",
       "      <td>2019-01-02</td>\n",
       "      <td>Dustin</td>\n",
       "      <td>Brennan</td>\n",
       "    </tr>\n",
       "    <tr>\n",
       "      <th>40</th>\n",
       "      <td>Rafael Farmer</td>\n",
       "      <td>9997.35</td>\n",
       "      <td>1.009998e+09</td>\n",
       "      <td>2019-01-02</td>\n",
       "      <td>Rafael</td>\n",
       "      <td>Farmer</td>\n",
       "    </tr>\n",
       "    <tr>\n",
       "      <th>52</th>\n",
       "      <td>Quentin Cannon</td>\n",
       "      <td>92484.59</td>\n",
       "      <td>1.009248e+09</td>\n",
       "      <td>2018-09-23</td>\n",
       "      <td>Quentin</td>\n",
       "      <td>Cannon</td>\n",
       "    </tr>\n",
       "    <tr>\n",
       "      <th>65</th>\n",
       "      <td>William Burton</td>\n",
       "      <td>9116.43</td>\n",
       "      <td>1.009117e+09</td>\n",
       "      <td>2019-08-30</td>\n",
       "      <td>William</td>\n",
       "      <td>Burton</td>\n",
       "    </tr>\n",
       "    <tr>\n",
       "      <th>66</th>\n",
       "      <td>Sean Downs</td>\n",
       "      <td>61470.61</td>\n",
       "      <td>1.006147e+09</td>\n",
       "      <td>2019-01-31</td>\n",
       "      <td>Sean</td>\n",
       "      <td>Downs</td>\n",
       "    </tr>\n",
       "    <tr>\n",
       "      <th>67</th>\n",
       "      <td>Avram Wall</td>\n",
       "      <td>62559.80</td>\n",
       "      <td>1.006256e+09</td>\n",
       "      <td>2019-01-31</td>\n",
       "      <td>Avram</td>\n",
       "      <td>Wall</td>\n",
       "    </tr>\n",
       "    <tr>\n",
       "      <th>79</th>\n",
       "      <td>Alec Salas</td>\n",
       "      <td>76890.58</td>\n",
       "      <td>1.007689e+09</td>\n",
       "      <td>2018-05-22</td>\n",
       "      <td>Alec</td>\n",
       "      <td>Salas</td>\n",
       "    </tr>\n",
       "  </tbody>\n",
       "</table>\n",
       "</div>"
      ],
      "text/plain": [
       "          user name    amount            id        date      name lastName\n",
       "5      Gavin Mcleod  10447.75  1.010447e+09  2018-10-24     Gavin   Mcleod\n",
       "8       Ryan Wilson   8587.07  1.008587e+09  2018-10-24      Ryan   Wilson\n",
       "16     Travis Terry  76812.81  1.007681e+09  2018-10-24    Travis    Terry\n",
       "22  Geoffrey Adkins  66865.65  8.000041e+09  2018-10-24  Geoffrey   Adkins\n",
       "23    Yoshio Daniel   6099.00  1.000006e+09  2018-10-24    Yoshio   Daniel\n",
       "25   Dustin Brennan   6524.38  1.006525e+09  2019-01-02    Dustin  Brennan\n",
       "40    Rafael Farmer   9997.35  1.009998e+09  2019-01-02    Rafael   Farmer\n",
       "52   Quentin Cannon  92484.59  1.009248e+09  2018-09-23   Quentin   Cannon\n",
       "65   William Burton   9116.43  1.009117e+09  2019-08-30   William   Burton\n",
       "66       Sean Downs  61470.61  1.006147e+09  2019-01-31      Sean    Downs\n",
       "67       Avram Wall  62559.80  1.006256e+09  2019-01-31     Avram     Wall\n",
       "79       Alec Salas  76890.58  1.007689e+09  2018-05-22      Alec    Salas"
      ]
     },
     "execution_count": 112,
     "metadata": {},
     "output_type": "execute_result"
    }
   ],
   "source": [
    "df1"
   ]
  },
  {
   "cell_type": "markdown",
   "metadata": {},
   "source": [
    "#### reset index"
   ]
  },
  {
   "cell_type": "code",
   "execution_count": 126,
   "metadata": {},
   "outputs": [],
   "source": [
    "df = pd.read_csv(\"demo.csv\" ,names=[\"user name\",\"amount\" , \"id\", \"date\"])\n",
    "\n",
    "ponerNulos = lambda x :  np.nan if (  random.random() < 0.3) else x\n",
    "\n",
    "df1 = df.applymap(ponerNulos).dropna()\n"
   ]
  },
  {
   "cell_type": "code",
   "execution_count": 127,
   "metadata": {},
   "outputs": [
    {
     "data": {
      "text/html": [
       "<div>\n",
       "<style scoped>\n",
       "    .dataframe tbody tr th:only-of-type {\n",
       "        vertical-align: middle;\n",
       "    }\n",
       "\n",
       "    .dataframe tbody tr th {\n",
       "        vertical-align: top;\n",
       "    }\n",
       "\n",
       "    .dataframe thead th {\n",
       "        text-align: right;\n",
       "    }\n",
       "</style>\n",
       "<table border=\"1\" class=\"dataframe\">\n",
       "  <thead>\n",
       "    <tr style=\"text-align: right;\">\n",
       "      <th></th>\n",
       "      <th>user name</th>\n",
       "      <th>amount</th>\n",
       "      <th>id</th>\n",
       "      <th>date</th>\n",
       "    </tr>\n",
       "  </thead>\n",
       "  <tbody>\n",
       "    <tr>\n",
       "      <th>14</th>\n",
       "      <td>Bruno Douglas</td>\n",
       "      <td>86169.87</td>\n",
       "      <td>1.008617e+09</td>\n",
       "      <td>2018-10-24</td>\n",
       "    </tr>\n",
       "    <tr>\n",
       "      <th>16</th>\n",
       "      <td>Travis Terry</td>\n",
       "      <td>76812.81</td>\n",
       "      <td>1.007681e+09</td>\n",
       "      <td>2018-10-24</td>\n",
       "    </tr>\n",
       "    <tr>\n",
       "      <th>17</th>\n",
       "      <td>Sean Wallace</td>\n",
       "      <td>76525.18</td>\n",
       "      <td>1.007653e+09</td>\n",
       "      <td>2018-10-24</td>\n",
       "    </tr>\n",
       "    <tr>\n",
       "      <th>23</th>\n",
       "      <td>Yoshio Daniel</td>\n",
       "      <td>6099.00</td>\n",
       "      <td>1.000006e+09</td>\n",
       "      <td>2018-10-24</td>\n",
       "    </tr>\n",
       "    <tr>\n",
       "      <th>24</th>\n",
       "      <td>Cyrus Reid</td>\n",
       "      <td>92331.14</td>\n",
       "      <td>1.009233e+09</td>\n",
       "      <td>2018-10-24</td>\n",
       "    </tr>\n",
       "    <tr>\n",
       "      <th>33</th>\n",
       "      <td>Timothy Sargent</td>\n",
       "      <td>9978.62</td>\n",
       "      <td>1.009978e+09</td>\n",
       "      <td>2019-01-02</td>\n",
       "    </tr>\n",
       "    <tr>\n",
       "      <th>35</th>\n",
       "      <td>Paul Nguyen</td>\n",
       "      <td>10135.53</td>\n",
       "      <td>8.000035e+09</td>\n",
       "      <td>2019-01-02</td>\n",
       "    </tr>\n",
       "    <tr>\n",
       "      <th>36</th>\n",
       "      <td>Nathan Porter</td>\n",
       "      <td>8491.40</td>\n",
       "      <td>1.008492e+09</td>\n",
       "      <td>2019-01-02</td>\n",
       "    </tr>\n",
       "    <tr>\n",
       "      <th>40</th>\n",
       "      <td>Rafael Farmer</td>\n",
       "      <td>9997.35</td>\n",
       "      <td>1.009998e+09</td>\n",
       "      <td>2019-01-02</td>\n",
       "    </tr>\n",
       "    <tr>\n",
       "      <th>47</th>\n",
       "      <td>Armando Waters</td>\n",
       "      <td>80605.79</td>\n",
       "      <td>8.000069e+09</td>\n",
       "      <td>2018-09-23</td>\n",
       "    </tr>\n",
       "    <tr>\n",
       "      <th>55</th>\n",
       "      <td>Jesse Fowler</td>\n",
       "      <td>71127.16</td>\n",
       "      <td>1.007113e+09</td>\n",
       "      <td>2018-09-23</td>\n",
       "    </tr>\n",
       "    <tr>\n",
       "      <th>57</th>\n",
       "      <td>Kuame Klein</td>\n",
       "      <td>6228.84</td>\n",
       "      <td>1.006228e+09</td>\n",
       "      <td>2019-08-30</td>\n",
       "    </tr>\n",
       "    <tr>\n",
       "      <th>58</th>\n",
       "      <td>Hedley Brock</td>\n",
       "      <td>25484.22</td>\n",
       "      <td>1.025484e+09</td>\n",
       "      <td>2019-08-30</td>\n",
       "    </tr>\n",
       "    <tr>\n",
       "      <th>59</th>\n",
       "      <td>Preston Copeland</td>\n",
       "      <td>6846.54</td>\n",
       "      <td>1.006846e+09</td>\n",
       "      <td>2019-08-30</td>\n",
       "    </tr>\n",
       "    <tr>\n",
       "      <th>66</th>\n",
       "      <td>Sean Downs</td>\n",
       "      <td>61470.61</td>\n",
       "      <td>1.006147e+09</td>\n",
       "      <td>2019-01-31</td>\n",
       "    </tr>\n",
       "    <tr>\n",
       "      <th>74</th>\n",
       "      <td>Ali Rosa</td>\n",
       "      <td>97798.93</td>\n",
       "      <td>1.009780e+09</td>\n",
       "      <td>2019-01-31</td>\n",
       "    </tr>\n",
       "    <tr>\n",
       "      <th>75</th>\n",
       "      <td>Kenyon Blevins</td>\n",
       "      <td>80485.96</td>\n",
       "      <td>1.008049e+09</td>\n",
       "      <td>2019-01-31</td>\n",
       "    </tr>\n",
       "    <tr>\n",
       "      <th>81</th>\n",
       "      <td>Reece Sharpe</td>\n",
       "      <td>77430.66</td>\n",
       "      <td>1.007743e+09</td>\n",
       "      <td>2018-05-22</td>\n",
       "    </tr>\n",
       "    <tr>\n",
       "      <th>91</th>\n",
       "      <td>Forrest Mcfarland</td>\n",
       "      <td>68966.65</td>\n",
       "      <td>1.006897e+09</td>\n",
       "      <td>2018-11-29</td>\n",
       "    </tr>\n",
       "    <tr>\n",
       "      <th>93</th>\n",
       "      <td>Tarik Moreno</td>\n",
       "      <td>88177.42</td>\n",
       "      <td>1.008818e+09</td>\n",
       "      <td>2018-11-29</td>\n",
       "    </tr>\n",
       "    <tr>\n",
       "      <th>95</th>\n",
       "      <td>Ross Pittman</td>\n",
       "      <td>72924.95</td>\n",
       "      <td>8.000023e+09</td>\n",
       "      <td>2018-07-23</td>\n",
       "    </tr>\n",
       "  </tbody>\n",
       "</table>\n",
       "</div>"
      ],
      "text/plain": [
       "            user name    amount            id        date\n",
       "14      Bruno Douglas  86169.87  1.008617e+09  2018-10-24\n",
       "16       Travis Terry  76812.81  1.007681e+09  2018-10-24\n",
       "17       Sean Wallace  76525.18  1.007653e+09  2018-10-24\n",
       "23      Yoshio Daniel   6099.00  1.000006e+09  2018-10-24\n",
       "24         Cyrus Reid  92331.14  1.009233e+09  2018-10-24\n",
       "33    Timothy Sargent   9978.62  1.009978e+09  2019-01-02\n",
       "35        Paul Nguyen  10135.53  8.000035e+09  2019-01-02\n",
       "36      Nathan Porter   8491.40  1.008492e+09  2019-01-02\n",
       "40      Rafael Farmer   9997.35  1.009998e+09  2019-01-02\n",
       "47     Armando Waters  80605.79  8.000069e+09  2018-09-23\n",
       "55       Jesse Fowler  71127.16  1.007113e+09  2018-09-23\n",
       "57        Kuame Klein   6228.84  1.006228e+09  2019-08-30\n",
       "58       Hedley Brock  25484.22  1.025484e+09  2019-08-30\n",
       "59   Preston Copeland   6846.54  1.006846e+09  2019-08-30\n",
       "66         Sean Downs  61470.61  1.006147e+09  2019-01-31\n",
       "74           Ali Rosa  97798.93  1.009780e+09  2019-01-31\n",
       "75     Kenyon Blevins  80485.96  1.008049e+09  2019-01-31\n",
       "81       Reece Sharpe  77430.66  1.007743e+09  2018-05-22\n",
       "91  Forrest Mcfarland  68966.65  1.006897e+09  2018-11-29\n",
       "93       Tarik Moreno  88177.42  1.008818e+09  2018-11-29\n",
       "95       Ross Pittman  72924.95  8.000023e+09  2018-07-23"
      ]
     },
     "execution_count": 127,
     "metadata": {},
     "output_type": "execute_result"
    }
   ],
   "source": [
    "df1"
   ]
  },
  {
   "cell_type": "code",
   "execution_count": 130,
   "metadata": {},
   "outputs": [],
   "source": [
    "df1.reset_index(drop=True , inplace=True)"
   ]
  },
  {
   "cell_type": "code",
   "execution_count": 138,
   "metadata": {},
   "outputs": [],
   "source": [
    "# Ejemplo cambios mutables"
   ]
  },
  {
   "cell_type": "code",
   "execution_count": 139,
   "metadata": {},
   "outputs": [],
   "source": [
    "var = np.array([1,2,3,4,5,6])\n",
    "np.random.shuffle(var)"
   ]
  },
  {
   "cell_type": "markdown",
   "metadata": {},
   "source": [
    "#### Esquema de datos"
   ]
  },
  {
   "cell_type": "code",
   "execution_count": 140,
   "metadata": {},
   "outputs": [
    {
     "data": {
      "text/plain": [
       "user name     object\n",
       "amount       float64\n",
       "id           float64\n",
       "date          object\n",
       "dtype: object"
      ]
     },
     "execution_count": 140,
     "metadata": {},
     "output_type": "execute_result"
    }
   ],
   "source": [
    "df1.dtypes"
   ]
  },
  {
   "cell_type": "code",
   "execution_count": 142,
   "metadata": {},
   "outputs": [],
   "source": [
    "df.date = pd.to_datetime(df.date , format=\"%Y-%m-%d\")"
   ]
  },
  {
   "cell_type": "code",
   "execution_count": 145,
   "metadata": {},
   "outputs": [
    {
     "data": {
      "text/html": [
       "<div>\n",
       "<style scoped>\n",
       "    .dataframe tbody tr th:only-of-type {\n",
       "        vertical-align: middle;\n",
       "    }\n",
       "\n",
       "    .dataframe tbody tr th {\n",
       "        vertical-align: top;\n",
       "    }\n",
       "\n",
       "    .dataframe thead th {\n",
       "        text-align: right;\n",
       "    }\n",
       "</style>\n",
       "<table border=\"1\" class=\"dataframe\">\n",
       "  <thead>\n",
       "    <tr style=\"text-align: right;\">\n",
       "      <th></th>\n",
       "      <th>user name</th>\n",
       "      <th>amount</th>\n",
       "      <th>id</th>\n",
       "      <th>date</th>\n",
       "    </tr>\n",
       "  </thead>\n",
       "  <tbody>\n",
       "    <tr>\n",
       "      <th>0</th>\n",
       "      <td>Sylvester Sykes</td>\n",
       "      <td>9014.58</td>\n",
       "      <td>1009014458</td>\n",
       "      <td>2018-10-24</td>\n",
       "    </tr>\n",
       "    <tr>\n",
       "      <th>1</th>\n",
       "      <td>Brandon Wheeler</td>\n",
       "      <td>8590.93</td>\n",
       "      <td>1006789262</td>\n",
       "      <td>2018-10-24</td>\n",
       "    </tr>\n",
       "    <tr>\n",
       "      <th>2</th>\n",
       "      <td>Wing Roth</td>\n",
       "      <td>25660.92</td>\n",
       "      <td>1025660292</td>\n",
       "      <td>2018-10-24</td>\n",
       "    </tr>\n",
       "    <tr>\n",
       "      <th>3</th>\n",
       "      <td>Zachary Roth</td>\n",
       "      <td>9178.23</td>\n",
       "      <td>1009178723</td>\n",
       "      <td>2018-10-24</td>\n",
       "    </tr>\n",
       "    <tr>\n",
       "      <th>4</th>\n",
       "      <td>Otto Barron</td>\n",
       "      <td>6754.46</td>\n",
       "      <td>1006754446</td>\n",
       "      <td>2018-10-24</td>\n",
       "    </tr>\n",
       "    <tr>\n",
       "      <th>...</th>\n",
       "      <td>...</td>\n",
       "      <td>...</td>\n",
       "      <td>...</td>\n",
       "      <td>...</td>\n",
       "    </tr>\n",
       "    <tr>\n",
       "      <th>94</th>\n",
       "      <td>Jakeem Bowers</td>\n",
       "      <td>21281.47</td>\n",
       "      <td>1021281747</td>\n",
       "      <td>2018-11-29</td>\n",
       "    </tr>\n",
       "    <tr>\n",
       "      <th>95</th>\n",
       "      <td>Ross Pittman</td>\n",
       "      <td>72924.95</td>\n",
       "      <td>8000022770</td>\n",
       "      <td>2018-07-23</td>\n",
       "    </tr>\n",
       "    <tr>\n",
       "      <th>96</th>\n",
       "      <td>Nathaniel Sanford</td>\n",
       "      <td>73541.17</td>\n",
       "      <td>1007354117</td>\n",
       "      <td>2018-08-05</td>\n",
       "    </tr>\n",
       "    <tr>\n",
       "      <th>97</th>\n",
       "      <td>Drew Cummings</td>\n",
       "      <td>72015.79</td>\n",
       "      <td>1007201579</td>\n",
       "      <td>2019-08-26</td>\n",
       "    </tr>\n",
       "    <tr>\n",
       "      <th>98</th>\n",
       "      <td>Christopher Morto</td>\n",
       "      <td>25694.88</td>\n",
       "      <td>8000061942</td>\n",
       "      <td>2019-12-08</td>\n",
       "    </tr>\n",
       "  </tbody>\n",
       "</table>\n",
       "<p>99 rows × 4 columns</p>\n",
       "</div>"
      ],
      "text/plain": [
       "            user name    amount          id       date\n",
       "0     Sylvester Sykes   9014.58  1009014458 2018-10-24\n",
       "1     Brandon Wheeler   8590.93  1006789262 2018-10-24\n",
       "2           Wing Roth  25660.92  1025660292 2018-10-24\n",
       "3        Zachary Roth   9178.23  1009178723 2018-10-24\n",
       "4         Otto Barron   6754.46  1006754446 2018-10-24\n",
       "..                ...       ...         ...        ...\n",
       "94      Jakeem Bowers  21281.47  1021281747 2018-11-29\n",
       "95       Ross Pittman  72924.95  8000022770 2018-07-23\n",
       "96  Nathaniel Sanford  73541.17  1007354117 2018-08-05\n",
       "97      Drew Cummings  72015.79  1007201579 2019-08-26\n",
       "98  Christopher Morto  25694.88  8000061942 2019-12-08\n",
       "\n",
       "[99 rows x 4 columns]"
      ]
     },
     "execution_count": 145,
     "metadata": {},
     "output_type": "execute_result"
    }
   ],
   "source": [
    "df.dtypes"
   ]
  },
  {
   "cell_type": "code",
   "execution_count": null,
   "metadata": {},
   "outputs": [],
   "source": []
  },
  {
   "cell_type": "code",
   "execution_count": null,
   "metadata": {},
   "outputs": [],
   "source": []
  },
  {
   "cell_type": "code",
   "execution_count": null,
   "metadata": {},
   "outputs": [],
   "source": []
  }
 ],
 "metadata": {
  "interpreter": {
   "hash": "e9d26aef1b45c2698ea6efe547ad5d4a29e612063653693e2b8c59ffe1c6a0ee"
  },
  "kernelspec": {
   "display_name": "Python 3.8.10 64-bit",
   "language": "python",
   "name": "python3"
  },
  "language_info": {
   "codemirror_mode": {
    "name": "ipython",
    "version": 3
   },
   "file_extension": ".py",
   "mimetype": "text/x-python",
   "name": "python",
   "nbconvert_exporter": "python",
   "pygments_lexer": "ipython3",
   "version": "3.8.10"
  },
  "orig_nbformat": 4
 },
 "nbformat": 4,
 "nbformat_minor": 2
}
