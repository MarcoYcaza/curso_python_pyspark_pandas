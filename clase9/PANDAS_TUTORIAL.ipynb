{
 "cells": [
  {
   "cell_type": "code",
   "execution_count": 1,
   "metadata": {},
   "outputs": [],
   "source": [
    "import pandas as pd"
   ]
  },
  {
   "cell_type": "markdown",
   "metadata": {},
   "source": [
    "Lectura de un CSV con inputación de nombres de columnas"
   ]
  },
  {
   "cell_type": "code",
   "execution_count": 2,
   "metadata": {},
   "outputs": [],
   "source": [
    "df = pd.read_csv(\"demo.csv\",names=[\"user\",\"amount\",\"id\",\"dates\"])"
   ]
  },
  {
   "cell_type": "markdown",
   "metadata": {},
   "source": [
    "Creación de una columna literal"
   ]
  },
  {
   "cell_type": "code",
   "execution_count": 3,
   "metadata": {},
   "outputs": [],
   "source": [
    "df[\"dummy_col\"] = 2"
   ]
  },
  {
   "cell_type": "code",
   "execution_count": 6,
   "metadata": {},
   "outputs": [
    {
     "data": {
      "text/html": [
       "<div>\n",
       "<style scoped>\n",
       "    .dataframe tbody tr th:only-of-type {\n",
       "        vertical-align: middle;\n",
       "    }\n",
       "\n",
       "    .dataframe tbody tr th {\n",
       "        vertical-align: top;\n",
       "    }\n",
       "\n",
       "    .dataframe thead th {\n",
       "        text-align: right;\n",
       "    }\n",
       "</style>\n",
       "<table border=\"1\" class=\"dataframe\">\n",
       "  <thead>\n",
       "    <tr style=\"text-align: right;\">\n",
       "      <th></th>\n",
       "      <th>user</th>\n",
       "      <th>amount</th>\n",
       "      <th>id</th>\n",
       "      <th>dates</th>\n",
       "      <th>dummy_col</th>\n",
       "    </tr>\n",
       "  </thead>\n",
       "  <tbody>\n",
       "    <tr>\n",
       "      <th>0</th>\n",
       "      <td>Sylvester Sykes</td>\n",
       "      <td>9014.58</td>\n",
       "      <td>1009014458</td>\n",
       "      <td>2018-10-24</td>\n",
       "      <td>2</td>\n",
       "    </tr>\n",
       "  </tbody>\n",
       "</table>\n",
       "</div>"
      ],
      "text/plain": [
       "              user   amount          id       dates  dummy_col\n",
       "0  Sylvester Sykes  9014.58  1009014458  2018-10-24          2"
      ]
     },
     "execution_count": 6,
     "metadata": {},
     "output_type": "execute_result"
    }
   ],
   "source": [
    "df.head(1)"
   ]
  },
  {
   "cell_type": "markdown",
   "metadata": {},
   "source": [
    "Creación de una columna en función alguna otra transformación "
   ]
  },
  {
   "cell_type": "code",
   "execution_count": 7,
   "metadata": {},
   "outputs": [],
   "source": [
    "from random import random\n",
    "\n",
    "a_func = lambda x : x*random()\n",
    "\n",
    "df[\"random_amount\"] = df.amount.apply(a_func)"
   ]
  },
  {
   "cell_type": "markdown",
   "metadata": {},
   "source": [
    "Separamos el nombre del apellido"
   ]
  },
  {
   "cell_type": "code",
   "execution_count": 37,
   "metadata": {},
   "outputs": [],
   "source": [
    "df[\"nombre\"]=df[\"user\"].str.split(\" \").apply(lambda x : x[0])\n",
    "\n",
    "df[\"apellido\"]=df[\"user\"].str.split(\" \").apply(lambda x : x[1])"
   ]
  },
  {
   "cell_type": "markdown",
   "metadata": {},
   "source": [
    "Sobre escribir la columna id con la misma pero al revés"
   ]
  },
  {
   "cell_type": "code",
   "execution_count": 40,
   "metadata": {},
   "outputs": [],
   "source": [
    "df[\"id\"] = df[\"id\"].apply(lambda  x: str(x)[::-1])"
   ]
  },
  {
   "cell_type": "markdown",
   "metadata": {},
   "source": [
    "Hemos usado apply , ahora vamos a usar appply MAP"
   ]
  },
  {
   "cell_type": "code",
   "execution_count": 60,
   "metadata": {},
   "outputs": [],
   "source": [
    "import numpy as np\n",
    "\n",
    "df1 = df.applymap(lambda x : np.nan if random()>0.5 else x)"
   ]
  },
  {
   "cell_type": "code",
   "execution_count": 72,
   "metadata": {},
   "outputs": [
    {
     "data": {
      "text/html": [
       "<div>\n",
       "<style scoped>\n",
       "    .dataframe tbody tr th:only-of-type {\n",
       "        vertical-align: middle;\n",
       "    }\n",
       "\n",
       "    .dataframe tbody tr th {\n",
       "        vertical-align: top;\n",
       "    }\n",
       "\n",
       "    .dataframe thead th {\n",
       "        text-align: right;\n",
       "    }\n",
       "</style>\n",
       "<table border=\"1\" class=\"dataframe\">\n",
       "  <thead>\n",
       "    <tr style=\"text-align: right;\">\n",
       "      <th></th>\n",
       "      <th>user</th>\n",
       "      <th>amount</th>\n",
       "      <th>id</th>\n",
       "      <th>dates</th>\n",
       "    </tr>\n",
       "  </thead>\n",
       "  <tbody>\n",
       "    <tr>\n",
       "      <th>6</th>\n",
       "      <td>Kyle Mckee</td>\n",
       "      <td>10657.29</td>\n",
       "      <td>1.009014e+09</td>\n",
       "      <td>2018-10-24</td>\n",
       "    </tr>\n",
       "    <tr>\n",
       "      <th>7</th>\n",
       "      <td>Nehru Woodward</td>\n",
       "      <td>8833.97</td>\n",
       "      <td>1.008834e+09</td>\n",
       "      <td>2018-10-24</td>\n",
       "    </tr>\n",
       "    <tr>\n",
       "      <th>20</th>\n",
       "      <td>Joshua Weeks</td>\n",
       "      <td>15987.05</td>\n",
       "      <td>1.015987e+09</td>\n",
       "      <td>2018-10-24</td>\n",
       "    </tr>\n",
       "    <tr>\n",
       "      <th>28</th>\n",
       "      <td>Burton Cain</td>\n",
       "      <td>9958.63</td>\n",
       "      <td>1.009959e+09</td>\n",
       "      <td>2019-01-02</td>\n",
       "    </tr>\n",
       "    <tr>\n",
       "      <th>54</th>\n",
       "      <td>Jakeem Avery</td>\n",
       "      <td>8309.07</td>\n",
       "      <td>1.008426e+09</td>\n",
       "      <td>2018-09-23</td>\n",
       "    </tr>\n",
       "    <tr>\n",
       "      <th>72</th>\n",
       "      <td>Demetrius Schwart</td>\n",
       "      <td>79030.70</td>\n",
       "      <td>1.007903e+09</td>\n",
       "      <td>2019-01-31</td>\n",
       "    </tr>\n",
       "  </tbody>\n",
       "</table>\n",
       "</div>"
      ],
      "text/plain": [
       "                 user    amount            id       dates\n",
       "6          Kyle Mckee  10657.29  1.009014e+09  2018-10-24\n",
       "7      Nehru Woodward   8833.97  1.008834e+09  2018-10-24\n",
       "20       Joshua Weeks  15987.05  1.015987e+09  2018-10-24\n",
       "28        Burton Cain   9958.63  1.009959e+09  2019-01-02\n",
       "54       Jakeem Avery   8309.07  1.008426e+09  2018-09-23\n",
       "72  Demetrius Schwart  79030.70  1.007903e+09  2019-01-31"
      ]
     },
     "execution_count": 72,
     "metadata": {},
     "output_type": "execute_result"
    }
   ],
   "source": [
    "df1.dropna()"
   ]
  },
  {
   "cell_type": "markdown",
   "metadata": {},
   "source": [
    "Seteamos el index de forma no numérica sino nombre de usuario"
   ]
  },
  {
   "cell_type": "code",
   "execution_count": 6,
   "metadata": {},
   "outputs": [
    {
     "data": {
      "text/html": [
       "<div>\n",
       "<style scoped>\n",
       "    .dataframe tbody tr th:only-of-type {\n",
       "        vertical-align: middle;\n",
       "    }\n",
       "\n",
       "    .dataframe tbody tr th {\n",
       "        vertical-align: top;\n",
       "    }\n",
       "\n",
       "    .dataframe thead th {\n",
       "        text-align: right;\n",
       "    }\n",
       "</style>\n",
       "<table border=\"1\" class=\"dataframe\">\n",
       "  <thead>\n",
       "    <tr style=\"text-align: right;\">\n",
       "      <th></th>\n",
       "      <th>amount</th>\n",
       "      <th>id</th>\n",
       "      <th>dates</th>\n",
       "    </tr>\n",
       "    <tr>\n",
       "      <th>user</th>\n",
       "      <th></th>\n",
       "      <th></th>\n",
       "      <th></th>\n",
       "    </tr>\n",
       "  </thead>\n",
       "  <tbody>\n",
       "    <tr>\n",
       "      <th>Sylvester Sykes</th>\n",
       "      <td>9014.58</td>\n",
       "      <td>1009014458</td>\n",
       "      <td>2018-10-24</td>\n",
       "    </tr>\n",
       "    <tr>\n",
       "      <th>Brandon Wheeler</th>\n",
       "      <td>8590.93</td>\n",
       "      <td>1006789262</td>\n",
       "      <td>2018-10-24</td>\n",
       "    </tr>\n",
       "    <tr>\n",
       "      <th>Wing Roth</th>\n",
       "      <td>25660.92</td>\n",
       "      <td>1025660292</td>\n",
       "      <td>2018-10-24</td>\n",
       "    </tr>\n",
       "    <tr>\n",
       "      <th>Zachary Roth</th>\n",
       "      <td>9178.23</td>\n",
       "      <td>1009178723</td>\n",
       "      <td>2018-10-24</td>\n",
       "    </tr>\n",
       "    <tr>\n",
       "      <th>Otto Barron</th>\n",
       "      <td>6754.46</td>\n",
       "      <td>1006754446</td>\n",
       "      <td>2018-10-24</td>\n",
       "    </tr>\n",
       "    <tr>\n",
       "      <th>...</th>\n",
       "      <td>...</td>\n",
       "      <td>...</td>\n",
       "      <td>...</td>\n",
       "    </tr>\n",
       "    <tr>\n",
       "      <th>Jakeem Bowers</th>\n",
       "      <td>21281.47</td>\n",
       "      <td>1021281747</td>\n",
       "      <td>2018-11-29</td>\n",
       "    </tr>\n",
       "    <tr>\n",
       "      <th>Ross Pittman</th>\n",
       "      <td>72924.95</td>\n",
       "      <td>8000022770</td>\n",
       "      <td>2018-07-23</td>\n",
       "    </tr>\n",
       "    <tr>\n",
       "      <th>Nathaniel Sanford</th>\n",
       "      <td>73541.17</td>\n",
       "      <td>1007354117</td>\n",
       "      <td>2018-08-05</td>\n",
       "    </tr>\n",
       "    <tr>\n",
       "      <th>Drew Cummings</th>\n",
       "      <td>72015.79</td>\n",
       "      <td>1007201579</td>\n",
       "      <td>2019-08-26</td>\n",
       "    </tr>\n",
       "    <tr>\n",
       "      <th>Christopher Morto</th>\n",
       "      <td>25694.88</td>\n",
       "      <td>8000061942</td>\n",
       "      <td>2019-12-08</td>\n",
       "    </tr>\n",
       "  </tbody>\n",
       "</table>\n",
       "<p>99 rows × 3 columns</p>\n",
       "</div>"
      ],
      "text/plain": [
       "                     amount          id       dates\n",
       "user                                               \n",
       "Sylvester Sykes     9014.58  1009014458  2018-10-24\n",
       "Brandon Wheeler     8590.93  1006789262  2018-10-24\n",
       "Wing Roth          25660.92  1025660292  2018-10-24\n",
       "Zachary Roth        9178.23  1009178723  2018-10-24\n",
       "Otto Barron         6754.46  1006754446  2018-10-24\n",
       "...                     ...         ...         ...\n",
       "Jakeem Bowers      21281.47  1021281747  2018-11-29\n",
       "Ross Pittman       72924.95  8000022770  2018-07-23\n",
       "Nathaniel Sanford  73541.17  1007354117  2018-08-05\n",
       "Drew Cummings      72015.79  1007201579  2019-08-26\n",
       "Christopher Morto  25694.88  8000061942  2019-12-08\n",
       "\n",
       "[99 rows x 3 columns]"
      ]
     },
     "execution_count": 6,
     "metadata": {},
     "output_type": "execute_result"
    }
   ],
   "source": [
    "df.set_index(df.columns[0])"
   ]
  },
  {
   "cell_type": "markdown",
   "metadata": {},
   "source": [
    "Convertir dato tipo object a fecha"
   ]
  },
  {
   "cell_type": "code",
   "execution_count": 7,
   "metadata": {},
   "outputs": [
    {
     "data": {
      "text/plain": [
       "user       object\n",
       "amount    float64\n",
       "id          int64\n",
       "dates      object\n",
       "dtype: object"
      ]
     },
     "execution_count": 7,
     "metadata": {},
     "output_type": "execute_result"
    }
   ],
   "source": [
    "df.dtypes"
   ]
  },
  {
   "cell_type": "markdown",
   "metadata": {},
   "source": [
    "Convertir columna a fecha\n",
    "https://docs.python.org/3/library/datetime.html#strftime-and-strptime-behavior"
   ]
  },
  {
   "cell_type": "code",
   "execution_count": 8,
   "metadata": {},
   "outputs": [],
   "source": [
    "df.dates = pd.to_datetime(df.dates, format = '%Y-%m-%d')"
   ]
  },
  {
   "cell_type": "code",
   "execution_count": 9,
   "metadata": {},
   "outputs": [
    {
     "data": {
      "text/plain": [
       "user              object\n",
       "amount           float64\n",
       "id                 int64\n",
       "dates     datetime64[ns]\n",
       "dtype: object"
      ]
     },
     "execution_count": 9,
     "metadata": {},
     "output_type": "execute_result"
    }
   ],
   "source": [
    "df.dtypes"
   ]
  },
  {
   "cell_type": "markdown",
   "metadata": {},
   "source": [
    "Slicing"
   ]
  },
  {
   "cell_type": "code",
   "execution_count": 10,
   "metadata": {},
   "outputs": [
    {
     "data": {
      "text/html": [
       "<div>\n",
       "<style scoped>\n",
       "    .dataframe tbody tr th:only-of-type {\n",
       "        vertical-align: middle;\n",
       "    }\n",
       "\n",
       "    .dataframe tbody tr th {\n",
       "        vertical-align: top;\n",
       "    }\n",
       "\n",
       "    .dataframe thead th {\n",
       "        text-align: right;\n",
       "    }\n",
       "</style>\n",
       "<table border=\"1\" class=\"dataframe\">\n",
       "  <thead>\n",
       "    <tr style=\"text-align: right;\">\n",
       "      <th></th>\n",
       "      <th>user</th>\n",
       "      <th>amount</th>\n",
       "      <th>id</th>\n",
       "      <th>dates</th>\n",
       "    </tr>\n",
       "  </thead>\n",
       "  <tbody>\n",
       "    <tr>\n",
       "      <th>0</th>\n",
       "      <td>Sylvester Sykes</td>\n",
       "      <td>9014.58</td>\n",
       "      <td>1009014458</td>\n",
       "      <td>2018-10-24</td>\n",
       "    </tr>\n",
       "  </tbody>\n",
       "</table>\n",
       "</div>"
      ],
      "text/plain": [
       "              user   amount          id      dates\n",
       "0  Sylvester Sykes  9014.58  1009014458 2018-10-24"
      ]
     },
     "execution_count": 10,
     "metadata": {},
     "output_type": "execute_result"
    }
   ],
   "source": [
    "df[:-1].head(1)"
   ]
  },
  {
   "cell_type": "markdown",
   "metadata": {},
   "source": [
    "localization by label\n",
    "https://pandas.pydata.org/docs/reference/api/pandas.DataFrame.loc.html"
   ]
  },
  {
   "cell_type": "code",
   "execution_count": 15,
   "metadata": {},
   "outputs": [
    {
     "data": {
      "text/html": [
       "<div>\n",
       "<style scoped>\n",
       "    .dataframe tbody tr th:only-of-type {\n",
       "        vertical-align: middle;\n",
       "    }\n",
       "\n",
       "    .dataframe tbody tr th {\n",
       "        vertical-align: top;\n",
       "    }\n",
       "\n",
       "    .dataframe thead th {\n",
       "        text-align: right;\n",
       "    }\n",
       "</style>\n",
       "<table border=\"1\" class=\"dataframe\">\n",
       "  <thead>\n",
       "    <tr style=\"text-align: right;\">\n",
       "      <th></th>\n",
       "      <th>user</th>\n",
       "      <th>amount</th>\n",
       "      <th>id</th>\n",
       "      <th>dates</th>\n",
       "      <th>dummy_col</th>\n",
       "      <th>random_amount</th>\n",
       "    </tr>\n",
       "  </thead>\n",
       "  <tbody>\n",
       "    <tr>\n",
       "      <th>0</th>\n",
       "      <td>Sylvester Sykes</td>\n",
       "      <td>9014.58</td>\n",
       "      <td>1009014458</td>\n",
       "      <td>2018-10-24</td>\n",
       "      <td>2</td>\n",
       "      <td>8863.120848</td>\n",
       "    </tr>\n",
       "    <tr>\n",
       "      <th>1</th>\n",
       "      <td>Brandon Wheeler</td>\n",
       "      <td>8590.93</td>\n",
       "      <td>1006789262</td>\n",
       "      <td>2018-10-24</td>\n",
       "      <td>2</td>\n",
       "      <td>2462.809200</td>\n",
       "    </tr>\n",
       "  </tbody>\n",
       "</table>\n",
       "</div>"
      ],
      "text/plain": [
       "              user   amount          id       dates  dummy_col  random_amount\n",
       "0  Sylvester Sykes  9014.58  1009014458  2018-10-24          2    8863.120848\n",
       "1  Brandon Wheeler  8590.93  1006789262  2018-10-24          2    2462.809200"
      ]
     },
     "execution_count": 15,
     "metadata": {},
     "output_type": "execute_result"
    }
   ],
   "source": [
    "df.head(2)"
   ]
  },
  {
   "cell_type": "code",
   "execution_count": 27,
   "metadata": {},
   "outputs": [
    {
     "data": {
      "text/html": [
       "<div>\n",
       "<style scoped>\n",
       "    .dataframe tbody tr th:only-of-type {\n",
       "        vertical-align: middle;\n",
       "    }\n",
       "\n",
       "    .dataframe tbody tr th {\n",
       "        vertical-align: top;\n",
       "    }\n",
       "\n",
       "    .dataframe thead th {\n",
       "        text-align: right;\n",
       "    }\n",
       "</style>\n",
       "<table border=\"1\" class=\"dataframe\">\n",
       "  <thead>\n",
       "    <tr style=\"text-align: right;\">\n",
       "      <th></th>\n",
       "      <th>user</th>\n",
       "      <th>amount</th>\n",
       "      <th>id</th>\n",
       "      <th>dates</th>\n",
       "      <th>dummy_col</th>\n",
       "      <th>random_amount</th>\n",
       "    </tr>\n",
       "  </thead>\n",
       "  <tbody>\n",
       "    <tr>\n",
       "      <th>0</th>\n",
       "      <td>Sylvester Sykes</td>\n",
       "      <td>9014.58</td>\n",
       "      <td>1009014458</td>\n",
       "      <td>2018-10-24</td>\n",
       "      <td>2</td>\n",
       "      <td>8863.120848</td>\n",
       "    </tr>\n",
       "  </tbody>\n",
       "</table>\n",
       "</div>"
      ],
      "text/plain": [
       "              user   amount          id       dates  dummy_col  random_amount\n",
       "0  Sylvester Sykes  9014.58  1009014458  2018-10-24          2    8863.120848"
      ]
     },
     "execution_count": 27,
     "metadata": {},
     "output_type": "execute_result"
    }
   ],
   "source": [
    "df.loc[df.user ==\"Sylvester Sykes\"]"
   ]
  },
  {
   "cell_type": "code",
   "execution_count": 13,
   "metadata": {},
   "outputs": [
    {
     "data": {
      "text/html": [
       "<div>\n",
       "<style scoped>\n",
       "    .dataframe tbody tr th:only-of-type {\n",
       "        vertical-align: middle;\n",
       "    }\n",
       "\n",
       "    .dataframe tbody tr th {\n",
       "        vertical-align: top;\n",
       "    }\n",
       "\n",
       "    .dataframe thead th {\n",
       "        text-align: right;\n",
       "    }\n",
       "</style>\n",
       "<table border=\"1\" class=\"dataframe\">\n",
       "  <thead>\n",
       "    <tr style=\"text-align: right;\">\n",
       "      <th></th>\n",
       "      <th>user</th>\n",
       "      <th>amount</th>\n",
       "      <th>id</th>\n",
       "      <th>dates</th>\n",
       "    </tr>\n",
       "  </thead>\n",
       "  <tbody>\n",
       "    <tr>\n",
       "      <th>98</th>\n",
       "      <td>Christopher Morto</td>\n",
       "      <td>25694.88</td>\n",
       "      <td>8000061942</td>\n",
       "      <td>2019-12-08</td>\n",
       "    </tr>\n",
       "  </tbody>\n",
       "</table>\n",
       "</div>"
      ],
      "text/plain": [
       "                 user    amount          id      dates\n",
       "98  Christopher Morto  25694.88  8000061942 2019-12-08"
      ]
     },
     "execution_count": 13,
     "metadata": {},
     "output_type": "execute_result"
    }
   ],
   "source": [
    "df[-1:]"
   ]
  },
  {
   "cell_type": "markdown",
   "metadata": {},
   "source": [
    "Apply a function to a serie"
   ]
  },
  {
   "cell_type": "code",
   "execution_count": 15,
   "metadata": {},
   "outputs": [],
   "source": [
    "def upperIfVocal(valor):\n",
    "\n",
    "    if (valor[0] == \"O\"):\n",
    "        return valor.upper()\n",
    "\n",
    "    return valor"
   ]
  },
  {
   "cell_type": "code",
   "execution_count": 16,
   "metadata": {},
   "outputs": [
    {
     "data": {
      "text/plain": [
       "0       Sylvester Sykes\n",
       "1       Brandon Wheeler\n",
       "2             Wing Roth\n",
       "3          Zachary Roth\n",
       "4           OTTO BARRON\n",
       "            ...        \n",
       "94        Jakeem Bowers\n",
       "95         Ross Pittman\n",
       "96    Nathaniel Sanford\n",
       "97        Drew Cummings\n",
       "98    Christopher Morto\n",
       "Name: user, Length: 99, dtype: object"
      ]
     },
     "execution_count": 16,
     "metadata": {},
     "output_type": "execute_result"
    }
   ],
   "source": [
    "df.loc[:,'user'].apply(upperIfVocal)"
   ]
  },
  {
   "cell_type": "code",
   "execution_count": 17,
   "metadata": {},
   "outputs": [],
   "source": [
    "# applpymap"
   ]
  },
  {
   "cell_type": "code",
   "execution_count": null,
   "metadata": {},
   "outputs": [
    {
     "data": {
      "text/html": [
       "<div>\n",
       "<style scoped>\n",
       "    .dataframe tbody tr th:only-of-type {\n",
       "        vertical-align: middle;\n",
       "    }\n",
       "\n",
       "    .dataframe tbody tr th {\n",
       "        vertical-align: top;\n",
       "    }\n",
       "\n",
       "    .dataframe thead th {\n",
       "        text-align: right;\n",
       "    }\n",
       "</style>\n",
       "<table border=\"1\" class=\"dataframe\">\n",
       "  <thead>\n",
       "    <tr style=\"text-align: right;\">\n",
       "      <th></th>\n",
       "      <th>user</th>\n",
       "      <th>id</th>\n",
       "    </tr>\n",
       "  </thead>\n",
       "  <tbody>\n",
       "    <tr>\n",
       "      <th>0</th>\n",
       "      <td>Sylvester Sykes</td>\n",
       "      <td>1009014458</td>\n",
       "    </tr>\n",
       "    <tr>\n",
       "      <th>1</th>\n",
       "      <td>Brandon Wheeler</td>\n",
       "      <td>1006789262</td>\n",
       "    </tr>\n",
       "    <tr>\n",
       "      <th>2</th>\n",
       "      <td>Wing Roth</td>\n",
       "      <td>1025660292</td>\n",
       "    </tr>\n",
       "    <tr>\n",
       "      <th>3</th>\n",
       "      <td>Zachary Roth</td>\n",
       "      <td>1009178723</td>\n",
       "    </tr>\n",
       "    <tr>\n",
       "      <th>4</th>\n",
       "      <td>Otto Barron</td>\n",
       "      <td>1006754446</td>\n",
       "    </tr>\n",
       "    <tr>\n",
       "      <th>5</th>\n",
       "      <td>Gavin Mcleod</td>\n",
       "      <td>1010447375</td>\n",
       "    </tr>\n",
       "  </tbody>\n",
       "</table>\n",
       "</div>"
      ],
      "text/plain": [
       "              user          id\n",
       "0  Sylvester Sykes  1009014458\n",
       "1  Brandon Wheeler  1006789262\n",
       "2        Wing Roth  1025660292\n",
       "3     Zachary Roth  1009178723\n",
       "4      Otto Barron  1006754446\n",
       "5     Gavin Mcleod  1010447375"
      ]
     },
     "execution_count": 7,
     "metadata": {},
     "output_type": "execute_result"
    }
   ],
   "source": [
    "df.loc[   0:5    ,['user','id']]\n",
    "#.apply( lambda x : x.upper()).head()"
   ]
  },
  {
   "cell_type": "code",
   "execution_count": null,
   "metadata": {},
   "outputs": [],
   "source": [
    "df[\"amount\"]  =  df[\"amount\"]*-1"
   ]
  },
  {
   "cell_type": "code",
   "execution_count": null,
   "metadata": {},
   "outputs": [],
   "source": [
    "df = df.set_index(df.user).drop(\"user\"  , axis=1)"
   ]
  },
  {
   "cell_type": "code",
   "execution_count": null,
   "metadata": {},
   "outputs": [
    {
     "data": {
      "text/html": [
       "<div>\n",
       "<style scoped>\n",
       "    .dataframe tbody tr th:only-of-type {\n",
       "        vertical-align: middle;\n",
       "    }\n",
       "\n",
       "    .dataframe tbody tr th {\n",
       "        vertical-align: top;\n",
       "    }\n",
       "\n",
       "    .dataframe thead th {\n",
       "        text-align: right;\n",
       "    }\n",
       "</style>\n",
       "<table border=\"1\" class=\"dataframe\">\n",
       "  <thead>\n",
       "    <tr style=\"text-align: right;\">\n",
       "      <th></th>\n",
       "      <th>amount</th>\n",
       "      <th>id</th>\n",
       "      <th>dates</th>\n",
       "    </tr>\n",
       "    <tr>\n",
       "      <th>user</th>\n",
       "      <th></th>\n",
       "      <th></th>\n",
       "      <th></th>\n",
       "    </tr>\n",
       "  </thead>\n",
       "  <tbody>\n",
       "    <tr>\n",
       "      <th>Holmes Crawford</th>\n",
       "      <td>8836.48</td>\n",
       "      <td>8000069544</td>\n",
       "      <td>2019-01-02</td>\n",
       "    </tr>\n",
       "    <tr>\n",
       "      <th>Nathaniel Sanford</th>\n",
       "      <td>73541.17</td>\n",
       "      <td>1007354117</td>\n",
       "      <td>2018-08-05</td>\n",
       "    </tr>\n",
       "  </tbody>\n",
       "</table>\n",
       "</div>"
      ],
      "text/plain": [
       "                     amount          id       dates\n",
       "user                                               \n",
       "Holmes Crawford     8836.48  8000069544  2019-01-02\n",
       "Nathaniel Sanford  73541.17  1007354117  2018-08-05"
      ]
     },
     "execution_count": 53,
     "metadata": {},
     "output_type": "execute_result"
    }
   ],
   "source": [
    "df.filter(like='ford', axis=0)"
   ]
  },
  {
   "cell_type": "code",
   "execution_count": null,
   "metadata": {},
   "outputs": [],
   "source": [
    "df = pd.read_csv(\"demo.csv\",names=[\"user\",\"amount\",\"id\",\"dates\"])"
   ]
  },
  {
   "cell_type": "code",
   "execution_count": null,
   "metadata": {},
   "outputs": [],
   "source": [
    "df[\"user2\"] = df[\"user\"]"
   ]
  },
  {
   "cell_type": "markdown",
   "metadata": {},
   "source": [
    "Máscara"
   ]
  },
  {
   "cell_type": "code",
   "execution_count": null,
   "metadata": {},
   "outputs": [
    {
     "data": {
      "text/html": [
       "<div>\n",
       "<style scoped>\n",
       "    .dataframe tbody tr th:only-of-type {\n",
       "        vertical-align: middle;\n",
       "    }\n",
       "\n",
       "    .dataframe tbody tr th {\n",
       "        vertical-align: top;\n",
       "    }\n",
       "\n",
       "    .dataframe thead th {\n",
       "        text-align: right;\n",
       "    }\n",
       "</style>\n",
       "<table border=\"1\" class=\"dataframe\">\n",
       "  <thead>\n",
       "    <tr style=\"text-align: right;\">\n",
       "      <th></th>\n",
       "      <th>user</th>\n",
       "      <th>amount</th>\n",
       "      <th>id</th>\n",
       "      <th>dates</th>\n",
       "    </tr>\n",
       "  </thead>\n",
       "  <tbody>\n",
       "    <tr>\n",
       "      <th>37</th>\n",
       "      <td>Holmes Crawford</td>\n",
       "      <td>8836.48</td>\n",
       "      <td>8000069544</td>\n",
       "      <td>2019-01-02</td>\n",
       "    </tr>\n",
       "    <tr>\n",
       "      <th>96</th>\n",
       "      <td>Nathaniel Sanford</td>\n",
       "      <td>73541.17</td>\n",
       "      <td>1007354117</td>\n",
       "      <td>2018-08-05</td>\n",
       "    </tr>\n",
       "  </tbody>\n",
       "</table>\n",
       "</div>"
      ],
      "text/plain": [
       "                 user    amount          id       dates\n",
       "37    Holmes Crawford   8836.48  8000069544  2019-01-02\n",
       "96  Nathaniel Sanford  73541.17  1007354117  2018-08-05"
      ]
     },
     "execution_count": 58,
     "metadata": {},
     "output_type": "execute_result"
    }
   ],
   "source": [
    "df.loc[df[\"user\"].str.contains(\"ford\")    ]"
   ]
  },
  {
   "cell_type": "code",
   "execution_count": null,
   "metadata": {},
   "outputs": [
    {
     "data": {
      "text/plain": [
       "Series([], Name: user2, dtype: object)"
      ]
     },
     "execution_count": 62,
     "metadata": {},
     "output_type": "execute_result"
    }
   ],
   "source": [
    "df.user2.filter(like='ford', axis=0)"
   ]
  },
  {
   "cell_type": "code",
   "execution_count": null,
   "metadata": {},
   "outputs": [],
   "source": [
    "df1 = df.loc[df[\"dates\"] == \"2018-10-24\"].reset_index(drop=True)\n",
    "df2 = df.loc[df[\"dates\"] == \"2018-11-29\"].reset_index(drop=True)"
   ]
  },
  {
   "cell_type": "code",
   "execution_count": null,
   "metadata": {},
   "outputs": [],
   "source": [
    "pd.concat(  [df1, df2]   ,axis=1 ).reset_index(drop=True)"
   ]
  },
  {
   "cell_type": "code",
   "execution_count": null,
   "metadata": {},
   "outputs": [],
   "source": [
    "df_unido = pd.concat([df1, df2]).reset_index(drop=True)"
   ]
  },
  {
   "cell_type": "markdown",
   "metadata": {},
   "source": [
    "JOIN"
   ]
  },
  {
   "cell_type": "code",
   "execution_count": null,
   "metadata": {},
   "outputs": [],
   "source": [
    "df = pd.DataFrame({'key': ['K0', 'K1', 'K2', 'K3', 'K4', 'K5'],\n",
    "                   'A': ['A0', 'A1', 'A2', 'A3', 'A4', 'A5']})\n",
    "other = pd.DataFrame({'key': ['K0', 'K1', 'K2'],\n",
    "                      'B': ['B0', 'B1', 'B2']})"
   ]
  },
  {
   "cell_type": "code",
   "execution_count": null,
   "metadata": {},
   "outputs": [
    {
     "data": {
      "text/html": [
       "<div>\n",
       "<style scoped>\n",
       "    .dataframe tbody tr th:only-of-type {\n",
       "        vertical-align: middle;\n",
       "    }\n",
       "\n",
       "    .dataframe tbody tr th {\n",
       "        vertical-align: top;\n",
       "    }\n",
       "\n",
       "    .dataframe thead th {\n",
       "        text-align: right;\n",
       "    }\n",
       "</style>\n",
       "<table border=\"1\" class=\"dataframe\">\n",
       "  <thead>\n",
       "    <tr style=\"text-align: right;\">\n",
       "      <th></th>\n",
       "      <th>key</th>\n",
       "      <th>A</th>\n",
       "    </tr>\n",
       "  </thead>\n",
       "  <tbody>\n",
       "    <tr>\n",
       "      <th>0</th>\n",
       "      <td>K0</td>\n",
       "      <td>A0</td>\n",
       "    </tr>\n",
       "    <tr>\n",
       "      <th>1</th>\n",
       "      <td>K1</td>\n",
       "      <td>A1</td>\n",
       "    </tr>\n",
       "    <tr>\n",
       "      <th>2</th>\n",
       "      <td>K2</td>\n",
       "      <td>A2</td>\n",
       "    </tr>\n",
       "    <tr>\n",
       "      <th>3</th>\n",
       "      <td>K3</td>\n",
       "      <td>A3</td>\n",
       "    </tr>\n",
       "    <tr>\n",
       "      <th>4</th>\n",
       "      <td>K4</td>\n",
       "      <td>A4</td>\n",
       "    </tr>\n",
       "    <tr>\n",
       "      <th>5</th>\n",
       "      <td>K5</td>\n",
       "      <td>A5</td>\n",
       "    </tr>\n",
       "  </tbody>\n",
       "</table>\n",
       "</div>"
      ],
      "text/plain": [
       "  key   A\n",
       "0  K0  A0\n",
       "1  K1  A1\n",
       "2  K2  A2\n",
       "3  K3  A3\n",
       "4  K4  A4\n",
       "5  K5  A5"
      ]
     },
     "execution_count": 87,
     "metadata": {},
     "output_type": "execute_result"
    }
   ],
   "source": [
    "df"
   ]
  },
  {
   "cell_type": "code",
   "execution_count": null,
   "metadata": {},
   "outputs": [
    {
     "data": {
      "text/html": [
       "<div>\n",
       "<style scoped>\n",
       "    .dataframe tbody tr th:only-of-type {\n",
       "        vertical-align: middle;\n",
       "    }\n",
       "\n",
       "    .dataframe tbody tr th {\n",
       "        vertical-align: top;\n",
       "    }\n",
       "\n",
       "    .dataframe thead th {\n",
       "        text-align: right;\n",
       "    }\n",
       "</style>\n",
       "<table border=\"1\" class=\"dataframe\">\n",
       "  <thead>\n",
       "    <tr style=\"text-align: right;\">\n",
       "      <th></th>\n",
       "      <th>key</th>\n",
       "      <th>B</th>\n",
       "    </tr>\n",
       "  </thead>\n",
       "  <tbody>\n",
       "    <tr>\n",
       "      <th>0</th>\n",
       "      <td>K0</td>\n",
       "      <td>B0</td>\n",
       "    </tr>\n",
       "    <tr>\n",
       "      <th>1</th>\n",
       "      <td>K1</td>\n",
       "      <td>B1</td>\n",
       "    </tr>\n",
       "    <tr>\n",
       "      <th>2</th>\n",
       "      <td>K2</td>\n",
       "      <td>B2</td>\n",
       "    </tr>\n",
       "  </tbody>\n",
       "</table>\n",
       "</div>"
      ],
      "text/plain": [
       "  key   B\n",
       "0  K0  B0\n",
       "1  K1  B1\n",
       "2  K2  B2"
      ]
     },
     "execution_count": 88,
     "metadata": {},
     "output_type": "execute_result"
    }
   ],
   "source": [
    "other"
   ]
  },
  {
   "cell_type": "code",
   "execution_count": null,
   "metadata": {},
   "outputs": [
    {
     "data": {
      "text/html": [
       "<div>\n",
       "<style scoped>\n",
       "    .dataframe tbody tr th:only-of-type {\n",
       "        vertical-align: middle;\n",
       "    }\n",
       "\n",
       "    .dataframe tbody tr th {\n",
       "        vertical-align: top;\n",
       "    }\n",
       "\n",
       "    .dataframe thead th {\n",
       "        text-align: right;\n",
       "    }\n",
       "</style>\n",
       "<table border=\"1\" class=\"dataframe\">\n",
       "  <thead>\n",
       "    <tr style=\"text-align: right;\">\n",
       "      <th></th>\n",
       "      <th>key_caller</th>\n",
       "      <th>A</th>\n",
       "      <th>key_other</th>\n",
       "      <th>B</th>\n",
       "    </tr>\n",
       "  </thead>\n",
       "  <tbody>\n",
       "    <tr>\n",
       "      <th>0</th>\n",
       "      <td>K0</td>\n",
       "      <td>A0</td>\n",
       "      <td>K0</td>\n",
       "      <td>B0</td>\n",
       "    </tr>\n",
       "    <tr>\n",
       "      <th>1</th>\n",
       "      <td>K1</td>\n",
       "      <td>A1</td>\n",
       "      <td>K1</td>\n",
       "      <td>B1</td>\n",
       "    </tr>\n",
       "    <tr>\n",
       "      <th>2</th>\n",
       "      <td>K2</td>\n",
       "      <td>A2</td>\n",
       "      <td>K2</td>\n",
       "      <td>B2</td>\n",
       "    </tr>\n",
       "    <tr>\n",
       "      <th>3</th>\n",
       "      <td>K3</td>\n",
       "      <td>A3</td>\n",
       "      <td>NaN</td>\n",
       "      <td>NaN</td>\n",
       "    </tr>\n",
       "    <tr>\n",
       "      <th>4</th>\n",
       "      <td>K4</td>\n",
       "      <td>A4</td>\n",
       "      <td>NaN</td>\n",
       "      <td>NaN</td>\n",
       "    </tr>\n",
       "  </tbody>\n",
       "</table>\n",
       "</div>"
      ],
      "text/plain": [
       "  key_caller   A key_other    B\n",
       "0         K0  A0        K0   B0\n",
       "1         K1  A1        K1   B1\n",
       "2         K2  A2        K2   B2\n",
       "3         K3  A3       NaN  NaN\n",
       "4         K4  A4       NaN  NaN"
      ]
     },
     "execution_count": 14,
     "metadata": {},
     "output_type": "execute_result"
    }
   ],
   "source": [
    "df.join(other, lsuffix='_caller', rsuffix='_other' ).head()"
   ]
  },
  {
   "cell_type": "code",
   "execution_count": null,
   "metadata": {},
   "outputs": [
    {
     "data": {
      "text/html": [
       "<div>\n",
       "<style scoped>\n",
       "    .dataframe tbody tr th:only-of-type {\n",
       "        vertical-align: middle;\n",
       "    }\n",
       "\n",
       "    .dataframe tbody tr th {\n",
       "        vertical-align: top;\n",
       "    }\n",
       "\n",
       "    .dataframe thead th {\n",
       "        text-align: right;\n",
       "    }\n",
       "</style>\n",
       "<table border=\"1\" class=\"dataframe\">\n",
       "  <thead>\n",
       "    <tr style=\"text-align: right;\">\n",
       "      <th></th>\n",
       "      <th>key</th>\n",
       "      <th>A</th>\n",
       "      <th>B</th>\n",
       "    </tr>\n",
       "  </thead>\n",
       "  <tbody>\n",
       "    <tr>\n",
       "      <th>0</th>\n",
       "      <td>K0</td>\n",
       "      <td>A0</td>\n",
       "      <td>B0</td>\n",
       "    </tr>\n",
       "    <tr>\n",
       "      <th>1</th>\n",
       "      <td>K1</td>\n",
       "      <td>A1</td>\n",
       "      <td>B1</td>\n",
       "    </tr>\n",
       "    <tr>\n",
       "      <th>2</th>\n",
       "      <td>K2</td>\n",
       "      <td>A2</td>\n",
       "      <td>B2</td>\n",
       "    </tr>\n",
       "    <tr>\n",
       "      <th>3</th>\n",
       "      <td>K3</td>\n",
       "      <td>A3</td>\n",
       "      <td>NaN</td>\n",
       "    </tr>\n",
       "    <tr>\n",
       "      <th>4</th>\n",
       "      <td>K4</td>\n",
       "      <td>A4</td>\n",
       "      <td>NaN</td>\n",
       "    </tr>\n",
       "  </tbody>\n",
       "</table>\n",
       "</div>"
      ],
      "text/plain": [
       "  key   A    B\n",
       "0  K0  A0   B0\n",
       "1  K1  A1   B1\n",
       "2  K2  A2   B2\n",
       "3  K3  A3  NaN\n",
       "4  K4  A4  NaN"
      ]
     },
     "execution_count": 97,
     "metadata": {},
     "output_type": "execute_result"
    }
   ],
   "source": [
    "df.merge(other ,  on=\"key\" , how=\"outer\").head()"
   ]
  },
  {
   "cell_type": "code",
   "execution_count": null,
   "metadata": {},
   "outputs": [
    {
     "data": {
      "text/html": [
       "<div>\n",
       "<style scoped>\n",
       "    .dataframe tbody tr th:only-of-type {\n",
       "        vertical-align: middle;\n",
       "    }\n",
       "\n",
       "    .dataframe tbody tr th {\n",
       "        vertical-align: top;\n",
       "    }\n",
       "\n",
       "    .dataframe thead th {\n",
       "        text-align: right;\n",
       "    }\n",
       "</style>\n",
       "<table border=\"1\" class=\"dataframe\">\n",
       "  <thead>\n",
       "    <tr style=\"text-align: right;\">\n",
       "      <th></th>\n",
       "      <th>key</th>\n",
       "      <th>A</th>\n",
       "      <th>B</th>\n",
       "    </tr>\n",
       "  </thead>\n",
       "  <tbody>\n",
       "    <tr>\n",
       "      <th>0</th>\n",
       "      <td>K0</td>\n",
       "      <td>A0</td>\n",
       "      <td>B0</td>\n",
       "    </tr>\n",
       "    <tr>\n",
       "      <th>1</th>\n",
       "      <td>K1</td>\n",
       "      <td>A1</td>\n",
       "      <td>B1</td>\n",
       "    </tr>\n",
       "    <tr>\n",
       "      <th>2</th>\n",
       "      <td>K2</td>\n",
       "      <td>A2</td>\n",
       "      <td>B2</td>\n",
       "    </tr>\n",
       "    <tr>\n",
       "      <th>3</th>\n",
       "      <td>K3</td>\n",
       "      <td>A3</td>\n",
       "      <td>NaN</td>\n",
       "    </tr>\n",
       "    <tr>\n",
       "      <th>4</th>\n",
       "      <td>K4</td>\n",
       "      <td>A4</td>\n",
       "      <td>NaN</td>\n",
       "    </tr>\n",
       "  </tbody>\n",
       "</table>\n",
       "</div>"
      ],
      "text/plain": [
       "  key   A    B\n",
       "0  K0  A0   B0\n",
       "1  K1  A1   B1\n",
       "2  K2  A2   B2\n",
       "3  K3  A3  NaN\n",
       "4  K4  A4  NaN"
      ]
     },
     "execution_count": 15,
     "metadata": {},
     "output_type": "execute_result"
    }
   ],
   "source": [
    "df.join(other.set_index('key') , on=\"key\").head()"
   ]
  },
  {
   "cell_type": "markdown",
   "metadata": {},
   "source": [
    "https://www.geeksforgeeks.org/what-is-the-difference-between-join-and-merge-in-pandas/"
   ]
  },
  {
   "cell_type": "code",
   "execution_count": null,
   "metadata": {},
   "outputs": [],
   "source": [
    "df1 = pd.DataFrame({'lkey': ['foo', 'bar', 'baz', 'foo'],\n",
    "                    'value': [1, 2, 3, 5]})\n",
    "df2 = pd.DataFrame({'rkey': ['foo', 'bar', 'baz', 'foo'],\n",
    "                    'value': [5, 6, 7, 8]})"
   ]
  },
  {
   "cell_type": "code",
   "execution_count": null,
   "metadata": {},
   "outputs": [],
   "source": [
    "df1v2 = df1.rename(columns={\"lkey\": \"rkey\", \"value\": \"value\"})"
   ]
  },
  {
   "cell_type": "code",
   "execution_count": null,
   "metadata": {},
   "outputs": [
    {
     "data": {
      "text/html": [
       "<div>\n",
       "<style scoped>\n",
       "    .dataframe tbody tr th:only-of-type {\n",
       "        vertical-align: middle;\n",
       "    }\n",
       "\n",
       "    .dataframe tbody tr th {\n",
       "        vertical-align: top;\n",
       "    }\n",
       "\n",
       "    .dataframe thead th {\n",
       "        text-align: right;\n",
       "    }\n",
       "</style>\n",
       "<table border=\"1\" class=\"dataframe\">\n",
       "  <thead>\n",
       "    <tr style=\"text-align: right;\">\n",
       "      <th></th>\n",
       "      <th>rkey</th>\n",
       "      <th>value</th>\n",
       "    </tr>\n",
       "  </thead>\n",
       "  <tbody>\n",
       "    <tr>\n",
       "      <th>0</th>\n",
       "      <td>foo</td>\n",
       "      <td>5</td>\n",
       "    </tr>\n",
       "    <tr>\n",
       "      <th>1</th>\n",
       "      <td>bar</td>\n",
       "      <td>6</td>\n",
       "    </tr>\n",
       "    <tr>\n",
       "      <th>2</th>\n",
       "      <td>baz</td>\n",
       "      <td>7</td>\n",
       "    </tr>\n",
       "    <tr>\n",
       "      <th>3</th>\n",
       "      <td>foo</td>\n",
       "      <td>8</td>\n",
       "    </tr>\n",
       "  </tbody>\n",
       "</table>\n",
       "</div>"
      ],
      "text/plain": [
       "  rkey  value\n",
       "0  foo      5\n",
       "1  bar      6\n",
       "2  baz      7\n",
       "3  foo      8"
      ]
     },
     "execution_count": 81,
     "metadata": {},
     "output_type": "execute_result"
    }
   ],
   "source": [
    "df2"
   ]
  },
  {
   "cell_type": "code",
   "execution_count": null,
   "metadata": {},
   "outputs": [
    {
     "data": {
      "text/html": [
       "<div>\n",
       "<style scoped>\n",
       "    .dataframe tbody tr th:only-of-type {\n",
       "        vertical-align: middle;\n",
       "    }\n",
       "\n",
       "    .dataframe tbody tr th {\n",
       "        vertical-align: top;\n",
       "    }\n",
       "\n",
       "    .dataframe thead th {\n",
       "        text-align: right;\n",
       "    }\n",
       "</style>\n",
       "<table border=\"1\" class=\"dataframe\">\n",
       "  <thead>\n",
       "    <tr style=\"text-align: right;\">\n",
       "      <th></th>\n",
       "      <th>rkey</th>\n",
       "      <th>value_v1</th>\n",
       "      <th>value_v2</th>\n",
       "    </tr>\n",
       "  </thead>\n",
       "  <tbody>\n",
       "    <tr>\n",
       "      <th>0</th>\n",
       "      <td>foo</td>\n",
       "      <td>1</td>\n",
       "      <td>5</td>\n",
       "    </tr>\n",
       "    <tr>\n",
       "      <th>1</th>\n",
       "      <td>foo</td>\n",
       "      <td>1</td>\n",
       "      <td>8</td>\n",
       "    </tr>\n",
       "    <tr>\n",
       "      <th>2</th>\n",
       "      <td>foo</td>\n",
       "      <td>5</td>\n",
       "      <td>5</td>\n",
       "    </tr>\n",
       "    <tr>\n",
       "      <th>3</th>\n",
       "      <td>foo</td>\n",
       "      <td>5</td>\n",
       "      <td>8</td>\n",
       "    </tr>\n",
       "    <tr>\n",
       "      <th>4</th>\n",
       "      <td>bar</td>\n",
       "      <td>2</td>\n",
       "      <td>6</td>\n",
       "    </tr>\n",
       "    <tr>\n",
       "      <th>5</th>\n",
       "      <td>baz</td>\n",
       "      <td>3</td>\n",
       "      <td>7</td>\n",
       "    </tr>\n",
       "  </tbody>\n",
       "</table>\n",
       "</div>"
      ],
      "text/plain": [
       "  rkey  value_v1  value_v2\n",
       "0  foo         1         5\n",
       "1  foo         1         8\n",
       "2  foo         5         5\n",
       "3  foo         5         8\n",
       "4  bar         2         6\n",
       "5  baz         3         7"
      ]
     },
     "execution_count": 85,
     "metadata": {},
     "output_type": "execute_result"
    }
   ],
   "source": [
    "#data=df1.merge(df2, left_on='lkey', right_on='rkey')\n",
    "\n",
    "data = df1v2.merge(df2, on = \"rkey\", suffixes=('_v1', '_v2'))\n",
    "data.head(10)"
   ]
  },
  {
   "cell_type": "markdown",
   "metadata": {},
   "source": [
    "GROUP BY"
   ]
  },
  {
   "cell_type": "code",
   "execution_count": null,
   "metadata": {},
   "outputs": [],
   "source": [
    "df = pd.read_csv(\"demo.csv\",names=[\"user\",\"amount\",\"id\",\"dates\"])"
   ]
  },
  {
   "cell_type": "code",
   "execution_count": 22,
   "metadata": {},
   "outputs": [],
   "source": [
    "df[\"id\"]   = df[\"id\"].apply(lambda x : str(x)[:4])"
   ]
  },
  {
   "cell_type": "code",
   "execution_count": 23,
   "metadata": {},
   "outputs": [
    {
     "data": {
      "text/html": [
       "<div>\n",
       "<style scoped>\n",
       "    .dataframe tbody tr th:only-of-type {\n",
       "        vertical-align: middle;\n",
       "    }\n",
       "\n",
       "    .dataframe tbody tr th {\n",
       "        vertical-align: top;\n",
       "    }\n",
       "\n",
       "    .dataframe thead th {\n",
       "        text-align: right;\n",
       "    }\n",
       "</style>\n",
       "<table border=\"1\" class=\"dataframe\">\n",
       "  <thead>\n",
       "    <tr style=\"text-align: right;\">\n",
       "      <th></th>\n",
       "      <th>user</th>\n",
       "      <th>amount</th>\n",
       "      <th>dates</th>\n",
       "    </tr>\n",
       "    <tr>\n",
       "      <th>id</th>\n",
       "      <th></th>\n",
       "      <th></th>\n",
       "      <th></th>\n",
       "    </tr>\n",
       "  </thead>\n",
       "  <tbody>\n",
       "    <tr>\n",
       "      <th>1000</th>\n",
       "      <td>1</td>\n",
       "      <td>1</td>\n",
       "      <td>1</td>\n",
       "    </tr>\n",
       "    <tr>\n",
       "      <th>1001</th>\n",
       "      <td>1</td>\n",
       "      <td>1</td>\n",
       "      <td>1</td>\n",
       "    </tr>\n",
       "    <tr>\n",
       "      <th>1006</th>\n",
       "      <td>16</td>\n",
       "      <td>16</td>\n",
       "      <td>16</td>\n",
       "    </tr>\n",
       "    <tr>\n",
       "      <th>1007</th>\n",
       "      <td>14</td>\n",
       "      <td>14</td>\n",
       "      <td>14</td>\n",
       "    </tr>\n",
       "    <tr>\n",
       "      <th>1008</th>\n",
       "      <td>17</td>\n",
       "      <td>17</td>\n",
       "      <td>17</td>\n",
       "    </tr>\n",
       "    <tr>\n",
       "      <th>1009</th>\n",
       "      <td>18</td>\n",
       "      <td>18</td>\n",
       "      <td>18</td>\n",
       "    </tr>\n",
       "    <tr>\n",
       "      <th>1010</th>\n",
       "      <td>4</td>\n",
       "      <td>4</td>\n",
       "      <td>4</td>\n",
       "    </tr>\n",
       "    <tr>\n",
       "      <th>1015</th>\n",
       "      <td>1</td>\n",
       "      <td>1</td>\n",
       "      <td>1</td>\n",
       "    </tr>\n",
       "    <tr>\n",
       "      <th>1017</th>\n",
       "      <td>1</td>\n",
       "      <td>1</td>\n",
       "      <td>1</td>\n",
       "    </tr>\n",
       "    <tr>\n",
       "      <th>1021</th>\n",
       "      <td>2</td>\n",
       "      <td>2</td>\n",
       "      <td>2</td>\n",
       "    </tr>\n",
       "    <tr>\n",
       "      <th>1025</th>\n",
       "      <td>5</td>\n",
       "      <td>5</td>\n",
       "      <td>5</td>\n",
       "    </tr>\n",
       "    <tr>\n",
       "      <th>1026</th>\n",
       "      <td>1</td>\n",
       "      <td>1</td>\n",
       "      <td>1</td>\n",
       "    </tr>\n",
       "    <tr>\n",
       "      <th>8000</th>\n",
       "      <td>18</td>\n",
       "      <td>18</td>\n",
       "      <td>18</td>\n",
       "    </tr>\n",
       "  </tbody>\n",
       "</table>\n",
       "</div>"
      ],
      "text/plain": [
       "      user  amount  dates\n",
       "id                       \n",
       "1000     1       1      1\n",
       "1001     1       1      1\n",
       "1006    16      16     16\n",
       "1007    14      14     14\n",
       "1008    17      17     17\n",
       "1009    18      18     18\n",
       "1010     4       4      4\n",
       "1015     1       1      1\n",
       "1017     1       1      1\n",
       "1021     2       2      2\n",
       "1025     5       5      5\n",
       "1026     1       1      1\n",
       "8000    18      18     18"
      ]
     },
     "execution_count": 23,
     "metadata": {},
     "output_type": "execute_result"
    }
   ],
   "source": [
    "df.groupby(\"id\").count()"
   ]
  },
  {
   "cell_type": "markdown",
   "metadata": {},
   "source": [
    "# Pandas Explode"
   ]
  },
  {
   "cell_type": "code",
   "execution_count": 8,
   "metadata": {},
   "outputs": [],
   "source": [
    "import numpy as np\n",
    "import pandas as pd\n",
    "\n",
    "df = pd.DataFrame({'A': [[0, 1, 2], 'foo', [], [3, 4]],\n",
    "                   'B': 1,\n",
    "                   'C': [['a', 'b', 'c'], np.nan, [], ['d', 'e']]})"
   ]
  },
  {
   "cell_type": "code",
   "execution_count": 9,
   "metadata": {},
   "outputs": [
    {
     "data": {
      "text/html": [
       "<div>\n",
       "<style scoped>\n",
       "    .dataframe tbody tr th:only-of-type {\n",
       "        vertical-align: middle;\n",
       "    }\n",
       "\n",
       "    .dataframe tbody tr th {\n",
       "        vertical-align: top;\n",
       "    }\n",
       "\n",
       "    .dataframe thead th {\n",
       "        text-align: right;\n",
       "    }\n",
       "</style>\n",
       "<table border=\"1\" class=\"dataframe\">\n",
       "  <thead>\n",
       "    <tr style=\"text-align: right;\">\n",
       "      <th></th>\n",
       "      <th>A</th>\n",
       "      <th>B</th>\n",
       "      <th>C</th>\n",
       "    </tr>\n",
       "  </thead>\n",
       "  <tbody>\n",
       "    <tr>\n",
       "      <th>0</th>\n",
       "      <td>[0, 1, 2]</td>\n",
       "      <td>1</td>\n",
       "      <td>[a, b, c]</td>\n",
       "    </tr>\n",
       "    <tr>\n",
       "      <th>1</th>\n",
       "      <td>foo</td>\n",
       "      <td>1</td>\n",
       "      <td>NaN</td>\n",
       "    </tr>\n",
       "    <tr>\n",
       "      <th>2</th>\n",
       "      <td>[]</td>\n",
       "      <td>1</td>\n",
       "      <td>[]</td>\n",
       "    </tr>\n",
       "    <tr>\n",
       "      <th>3</th>\n",
       "      <td>[3, 4]</td>\n",
       "      <td>1</td>\n",
       "      <td>[d, e]</td>\n",
       "    </tr>\n",
       "  </tbody>\n",
       "</table>\n",
       "</div>"
      ],
      "text/plain": [
       "           A  B          C\n",
       "0  [0, 1, 2]  1  [a, b, c]\n",
       "1        foo  1        NaN\n",
       "2         []  1         []\n",
       "3     [3, 4]  1     [d, e]"
      ]
     },
     "execution_count": 9,
     "metadata": {},
     "output_type": "execute_result"
    }
   ],
   "source": [
    "df.head()"
   ]
  },
  {
   "cell_type": "code",
   "execution_count": 12,
   "metadata": {},
   "outputs": [
    {
     "data": {
      "text/html": [
       "<div>\n",
       "<style scoped>\n",
       "    .dataframe tbody tr th:only-of-type {\n",
       "        vertical-align: middle;\n",
       "    }\n",
       "\n",
       "    .dataframe tbody tr th {\n",
       "        vertical-align: top;\n",
       "    }\n",
       "\n",
       "    .dataframe thead th {\n",
       "        text-align: right;\n",
       "    }\n",
       "</style>\n",
       "<table border=\"1\" class=\"dataframe\">\n",
       "  <thead>\n",
       "    <tr style=\"text-align: right;\">\n",
       "      <th></th>\n",
       "      <th>A</th>\n",
       "      <th>B</th>\n",
       "      <th>C</th>\n",
       "    </tr>\n",
       "  </thead>\n",
       "  <tbody>\n",
       "    <tr>\n",
       "      <th>0</th>\n",
       "      <td>0</td>\n",
       "      <td>1</td>\n",
       "      <td>a</td>\n",
       "    </tr>\n",
       "    <tr>\n",
       "      <th>0</th>\n",
       "      <td>0</td>\n",
       "      <td>1</td>\n",
       "      <td>b</td>\n",
       "    </tr>\n",
       "    <tr>\n",
       "      <th>0</th>\n",
       "      <td>0</td>\n",
       "      <td>1</td>\n",
       "      <td>c</td>\n",
       "    </tr>\n",
       "    <tr>\n",
       "      <th>0</th>\n",
       "      <td>1</td>\n",
       "      <td>1</td>\n",
       "      <td>a</td>\n",
       "    </tr>\n",
       "    <tr>\n",
       "      <th>0</th>\n",
       "      <td>1</td>\n",
       "      <td>1</td>\n",
       "      <td>b</td>\n",
       "    </tr>\n",
       "    <tr>\n",
       "      <th>0</th>\n",
       "      <td>1</td>\n",
       "      <td>1</td>\n",
       "      <td>c</td>\n",
       "    </tr>\n",
       "    <tr>\n",
       "      <th>0</th>\n",
       "      <td>2</td>\n",
       "      <td>1</td>\n",
       "      <td>a</td>\n",
       "    </tr>\n",
       "    <tr>\n",
       "      <th>0</th>\n",
       "      <td>2</td>\n",
       "      <td>1</td>\n",
       "      <td>b</td>\n",
       "    </tr>\n",
       "    <tr>\n",
       "      <th>0</th>\n",
       "      <td>2</td>\n",
       "      <td>1</td>\n",
       "      <td>c</td>\n",
       "    </tr>\n",
       "    <tr>\n",
       "      <th>1</th>\n",
       "      <td>foo</td>\n",
       "      <td>1</td>\n",
       "      <td>NaN</td>\n",
       "    </tr>\n",
       "    <tr>\n",
       "      <th>2</th>\n",
       "      <td>NaN</td>\n",
       "      <td>1</td>\n",
       "      <td>NaN</td>\n",
       "    </tr>\n",
       "    <tr>\n",
       "      <th>3</th>\n",
       "      <td>3</td>\n",
       "      <td>1</td>\n",
       "      <td>d</td>\n",
       "    </tr>\n",
       "    <tr>\n",
       "      <th>3</th>\n",
       "      <td>3</td>\n",
       "      <td>1</td>\n",
       "      <td>e</td>\n",
       "    </tr>\n",
       "    <tr>\n",
       "      <th>3</th>\n",
       "      <td>4</td>\n",
       "      <td>1</td>\n",
       "      <td>d</td>\n",
       "    </tr>\n",
       "    <tr>\n",
       "      <th>3</th>\n",
       "      <td>4</td>\n",
       "      <td>1</td>\n",
       "      <td>e</td>\n",
       "    </tr>\n",
       "  </tbody>\n",
       "</table>\n",
       "</div>"
      ],
      "text/plain": [
       "     A  B    C\n",
       "0    0  1    a\n",
       "0    0  1    b\n",
       "0    0  1    c\n",
       "0    1  1    a\n",
       "0    1  1    b\n",
       "0    1  1    c\n",
       "0    2  1    a\n",
       "0    2  1    b\n",
       "0    2  1    c\n",
       "1  foo  1  NaN\n",
       "2  NaN  1  NaN\n",
       "3    3  1    d\n",
       "3    3  1    e\n",
       "3    4  1    d\n",
       "3    4  1    e"
      ]
     },
     "execution_count": 12,
     "metadata": {},
     "output_type": "execute_result"
    }
   ],
   "source": [
    "df.explode('A').explode('C')"
   ]
  },
  {
   "cell_type": "code",
   "execution_count": 15,
   "metadata": {},
   "outputs": [],
   "source": [
    "#df.explode('A').explode('C')"
   ]
  },
  {
   "cell_type": "code",
   "execution_count": 17,
   "metadata": {},
   "outputs": [],
   "source": [
    "import numpy as np\n",
    "import pandas as pd"
   ]
  },
  {
   "cell_type": "code",
   "execution_count": 46,
   "metadata": {},
   "outputs": [],
   "source": [
    "lista1 = [4,6,7,3,4,2,1,4]\n",
    "lista2 = [5,6,7,3,9,1,7,2]\n",
    "\n",
    "data = zip(lista1,lista2)"
   ]
  },
  {
   "cell_type": "code",
   "execution_count": 47,
   "metadata": {},
   "outputs": [],
   "source": [
    "df = pd.DataFrame(data,columns=[\"A\",\"B\"] )"
   ]
  },
  {
   "cell_type": "code",
   "execution_count": 52,
   "metadata": {},
   "outputs": [
    {
     "data": {
      "text/plain": [
       "[4, 6, 7, 3, 4, 2, 1, 4, 5, 6, 7, 3, 9, 1, 7, 2]"
      ]
     },
     "execution_count": 52,
     "metadata": {},
     "output_type": "execute_result"
    }
   ],
   "source": [
    "np.concatenate( (df.A , df.B) ).tolist()"
   ]
  },
  {
   "cell_type": "code",
   "execution_count": 26,
   "metadata": {},
   "outputs": [],
   "source": [
    "df[\"C\"]   = np.where(  df[\"B\"] > df[\"A\"]  , 0 ,1)"
   ]
  },
  {
   "cell_type": "code",
   "execution_count": 30,
   "metadata": {},
   "outputs": [
    {
     "data": {
      "text/plain": [
       "array([0, 1, 1, 1, 0, 1, 0, 1])"
      ]
     },
     "execution_count": 30,
     "metadata": {},
     "output_type": "execute_result"
    }
   ],
   "source": [
    "np.where(  df[\"B\"] > df[\"A\"]  , 0 ,1)"
   ]
  },
  {
   "cell_type": "code",
   "execution_count": 31,
   "metadata": {},
   "outputs": [
    {
     "data": {
      "text/plain": [
       "0     True\n",
       "1    False\n",
       "2    False\n",
       "3    False\n",
       "4     True\n",
       "5    False\n",
       "6     True\n",
       "7    False\n",
       "dtype: bool"
      ]
     },
     "execution_count": 31,
     "metadata": {},
     "output_type": "execute_result"
    }
   ],
   "source": [
    "df[\"B\"] > df[\"A\"] "
   ]
  },
  {
   "cell_type": "code",
   "execution_count": 32,
   "metadata": {},
   "outputs": [],
   "source": [
    "import numpy as np"
   ]
  },
  {
   "cell_type": "code",
   "execution_count": 33,
   "metadata": {},
   "outputs": [],
   "source": [
    "x = np.linspace(1,100, 1000)\n",
    "\n",
    "y = np.sin(x)"
   ]
  },
  {
   "cell_type": "code",
   "execution_count": 38,
   "metadata": {},
   "outputs": [
    {
     "data": {
      "text/plain": [
       "array([ 0.84147098,  0.89079835,  0.93138468,  0.9628317 ,  0.98483084,\n",
       "        0.99716623,  0.99971683,  0.99245762,  0.97545982,  0.94889022,\n",
       "        0.91300955,  0.86816988,  0.81481121,  0.75345713,  0.68470967,\n",
       "        0.60924344,  0.52779894,  0.44117537,  0.35022272,  0.25583347,\n",
       "        0.15893384,  0.06047465, -0.03857795, -0.137252  , -0.23457926,\n",
       "       -0.32960468, -0.42139582, -0.50905198, -0.59171301, -0.66856781,\n",
       "       -0.73886221, -0.80190646, -0.85708193, -0.90384719, -0.94174337,\n",
       "       -0.9703986 , -0.98953169, -0.99895492, -0.9985758 , -0.98839806,\n",
       "       -0.96852156, -0.93914136, -0.90054574, -0.85311342, -0.79730985,\n",
       "       -0.7336826 , -0.66285602, -0.5855251 , -0.50244865, -0.41444188,\n",
       "       -0.32236836, -0.22713157, -0.12966603, -0.03092812,  0.06811327,\n",
       "        0.16648629,  0.26322564,  0.35738207,  0.44803166,  0.53428489,\n",
       "        0.6152954 ,  0.69026826,  0.7584678 ,  0.81922479,  0.87194307,\n",
       "        0.91610532,  0.9512782 ,  0.97711657,  0.99336688,  0.99986969,\n",
       "        0.99656118,  0.98347382,  0.96073602,  0.92857091,  0.88729411,\n",
       "        0.83731065,  0.77911099,  0.71326623,  0.64042248,  0.56129452,\n",
       "        0.47665881,  0.38734583,  0.29423199,  0.19823096,  0.10028478,\n",
       "        0.00135454, -0.09758899, -0.19557492, -0.29164176, -0.38484682,\n",
       "       -0.47427555, -0.55905039, -0.6383395 , -0.71136485, -0.77740985,\n",
       "       -0.83582645, -0.88604142, -0.92756202, -0.95998083, -0.98297973,\n",
       "       -0.99633305, -0.99990976, -0.99367475, -0.97768921, -0.95211001,\n",
       "       -0.91718813, -0.87326625, -0.82077537, -0.76023054, -0.69222588,\n",
       "       -0.61742869, -0.53657292, -0.45045197, -0.35991092, -0.26583821,\n",
       "       -0.16915694, -0.0708158 ,  0.02822023,  0.12697935,  0.22449247,\n",
       "        0.31980273,  0.4119749 ,  0.50010453,  0.58332683,  0.66082518,\n",
       "        0.73183912,  0.79567181,  0.8516969 ,  0.89936463,  0.93820726,\n",
       "        0.96784364,  0.98798296,  0.9984276 ,  0.99907507,  0.98991903,\n",
       "        0.9710493 ,  0.94265106,  0.90500297,  0.85847444,  0.80352205,\n",
       "        0.74068503,  0.67057996,  0.59389476,  0.5113819 ,  0.42385107,\n",
       "        0.33216115,  0.23721188,  0.13993493,  0.04128486, -0.05777032,\n",
       "       -0.15625862, -0.25321362, -0.34768394, -0.43874257, -0.525496  ,\n",
       "       -0.60709295, -0.68273274, -0.75167315, -0.8132377 , -0.86682227,\n",
       "       -0.91190106, -0.94803174, -0.97485976, -0.99212188, -0.9996487 ,\n",
       "       -0.99736638, -0.9852973 , -0.96355989, -0.93236746, -0.89202608,\n",
       "       -0.84293161, -0.7855658 , -0.72049154, -0.64834739, -0.56984127,\n",
       "       -0.48574352, -0.39687937, -0.3041208 , -0.20837802, -0.11059051,\n",
       "       -0.01171782,  0.08726986,  0.18540119,  0.28171325,  0.37526098,\n",
       "        0.46512642,  0.55042776,  0.63032798,  0.70404304,  0.77084961,\n",
       "        0.83009214,  0.88118932,  0.92363974,  0.95702685,  0.98102305,\n",
       "        0.99539286,  0.99999528,  0.99478516,  0.9798136 ,  0.95522753,\n",
       "        0.9212682 ,  0.87826883,  0.82665137,  0.76692231,  0.69966775,\n",
       "        0.62554763,  0.54528927,  0.4596802 ,  0.36956047,  0.2758144 ,\n",
       "        0.17936187,  0.08114934, -0.01785948, -0.11669306, -0.21438157,\n",
       "       -0.30996644, -0.40250973, -0.49110336, -0.57487799, -0.65301157,\n",
       "       -0.72473742, -0.78935171, -0.8462204 , -0.89478548, -0.93457039,\n",
       "       -0.96518474, -0.98632811, -0.99779305, -0.99946705, -0.99133367,\n",
       "       -0.97347274, -0.94605952, -0.90936299, -0.86374326, -0.80964795,\n",
       "       -0.7476079 , -0.67823187, -0.60220063, -0.52026023, -0.43321473,\n",
       "       -0.34191827, -0.24726671, -0.15018881, -0.05163717,  0.04742116,\n",
       "        0.14601417,  0.2431744 ,  0.33794846,  0.42940636,  0.51665068,\n",
       "        0.5988253 ,  0.6751239 ,  0.74479778,  0.80716326,  0.86160837,\n",
       "        0.90759886,  0.94468346,  0.97249825,  0.99077031,  0.99932035,\n",
       "        0.99806445,  0.98701495,  0.96628027,  0.93606387,  0.89666225,\n",
       "        0.84846205,  0.79193623,  0.72763946,  0.65620266,  0.57832681,\n",
       "        0.49477606,  0.40637028,  0.31397696,  0.2185027 ,  0.12088436,\n",
       "        0.02207984, -0.07694135, -0.17520754, -0.27175449, -0.36563483,\n",
       "       -0.45592733, -0.54174601, -0.62224875, -0.69664561, -0.76420658,\n",
       "       -0.82426869, -0.87624258, -0.91961826, -0.95397009, -0.978961  ,\n",
       "       -0.99434576, -0.99997341, -0.99578872, -0.98183276, -0.95824247,\n",
       "       -0.92524933, -0.88317709, -0.83243859, -0.77353171, -0.70703447,\n",
       "       -0.63359939, -0.55394705, -0.46885905, -0.37917033, -0.28576096,\n",
       "       -0.18954754, -0.09147416,  0.00749682,  0.10639423,  0.20424764,\n",
       "        0.30009685,  0.39300133,  0.48204945,  0.56636741,  0.64512784,\n",
       "        0.71755788,  0.78294682,  0.84065302,  0.89011023,  0.93083314,\n",
       "        0.96242217,  0.98456733,  0.99705134,  0.99975167,  0.99264185,\n",
       "        0.97579164,  0.94936637,  0.91362535,  0.8689193 ,  0.81568689,\n",
       "        0.75445048,  0.68581095,  0.61044183,  0.52908269,  0.44253187,\n",
       "        0.35163867,  0.25729498,  0.16042656,  0.06198393, -0.03706691,\n",
       "       -0.13575404, -0.23310906, -0.32817668, -0.42002403, -0.50774986,\n",
       "       -0.59049334, -0.66744255, -0.73784241, -0.80100213, -0.85630193,\n",
       "       -0.90319919, -0.94123372, -0.9700323 , -0.98931234, -0.99888466,\n",
       "       -0.99865533, -0.9886266 , -0.96889687, -0.93965974, -0.90120212,\n",
       "       -0.85390136, -0.79822161, -0.73470924, -0.66398746, -0.58675023,\n",
       "       -0.50375547, -0.41581755, -0.32379939, -0.22860391, -0.13116523,\n",
       "       -0.03243948,  0.06660458,  0.16499508,  0.26176655,  0.35596941,\n",
       "        0.44667928,  0.53300608,  0.61410269,  0.68917337,  0.75748146,\n",
       "        0.8183567 ,  0.87120173,  0.91549801,  0.95081087,  0.97679381,\n",
       "        0.99319187,  0.99984414,  0.99668534,  0.98374646,  0.96115448,\n",
       "        0.92913108,  0.88799049,  0.83813641,  0.78005803,  0.71432525,\n",
       "        0.64158309,  0.56254534,  0.47798755,  0.38873947,  0.29567684,\n",
       "        0.19971285,  0.10178916,  0.00286665, -0.09608398, -0.19409178,\n",
       "       -0.29019504, -0.38345073, -0.47294377, -0.557796  , -0.63717481,\n",
       "       -0.71030128, -0.77645785, -0.83499535, -0.88533938, -0.92699592,\n",
       "       -0.95955624, -0.98270081, -0.99620253, -0.99992893, -0.99384342,\n",
       "       -0.97800573, -0.95257126, -0.91778959, -0.87400202, -0.82163823,\n",
       "       -0.76121203, -0.69331636, -0.61861746, -0.53784831, -0.45180148,\n",
       "       -0.3613213 , -0.26729562, -0.17064708, -0.07232404,  0.02670868,\n",
       "        0.12547932,  0.22301869,  0.31836966,  0.41059659,  0.49879451,\n",
       "        0.58209796,  0.65968951,  0.7308078 ,  0.79475497,  0.85090352,\n",
       "        0.89870251,  0.93768288,  0.96746216,  0.98774811,  0.99834169,\n",
       "        0.99913895,  0.99013206,  0.9714094 ,  0.9431547 ,  0.90564519,\n",
       "        0.85924896,  0.80442126,  0.7417001 ,  0.67170094,  0.59511064,\n",
       "        0.51268077,  0.42522016,  0.33358704,  0.23868057,  0.14143202,\n",
       "        0.04279565, -0.05626065, -0.15476489, -0.25175049, -0.34626576,\n",
       "       -0.43738326, -0.52420889, -0.60589068, -0.6816271 , -0.750675  ,\n",
       "       -0.81235682, -0.86606731, -0.91127943, -0.94754953, -0.97452172,\n",
       "       -0.99193131, -0.99960748, -0.99747491, -0.98555451, -0.96396327,\n",
       "       -0.93291304, -0.89270852, -0.8437442 , -0.78650057, -0.72153932,\n",
       "       -0.64949789, -0.57108321, -0.48706471, -0.39826685, -0.30556095,\n",
       "       -0.20985671, -0.11209323, -0.01322982,  0.08576341,  0.18391507,\n",
       "        0.28026205,  0.37385894,  0.46378729,  0.54916469,  0.62915335,\n",
       "        0.70296839,  0.76988548,  0.829248  ,  0.88047344,  0.92305914,\n",
       "        0.95658724,  0.98072874,  0.99524674,  0.99999878,  0.99493824,\n",
       "        0.98011478,  0.95567384,  0.92185525,  0.87899088,  0.82750132,\n",
       "        0.76789182,  0.70074731,  0.62672665,  0.54655618,  0.46102256,\n",
       "        0.37096512,  0.27726755,  0.18084926,  0.08265638, -0.01634758,\n",
       "       -0.11519113, -0.21290436, -0.30852844, -0.40112505, -0.48978559,\n",
       "       -0.57364006, -0.65186563, -0.7236947 , -0.78842245, -0.84541373,\n",
       "       -0.8941093 , -0.93403134, -0.96478811, -0.9860778 , -0.9976915 ,\n",
       "       -0.99951526, -0.99153119, -0.97381761, -0.94654835, -0.909991  ,\n",
       "       -0.86450427, -0.81053451, -0.74861131, -0.67934228, -0.60340713,\n",
       "       -0.521551  , -0.4345771 , -0.34333887, -0.24873159, -0.15168361,\n",
       "       -0.05314722,  0.04591069,  0.14451809,  0.24170739,  0.33652491,\n",
       "        0.42804026,  0.51535541,  0.59761359,  0.67400763,  0.74378791,\n",
       "        0.80626969,  0.86083987,  0.90696298,  0.94418643,  0.97214495,\n",
       "        0.99056421,  0.99926346,  0.99815734,  0.98725671,  0.96666852,\n",
       "        0.93659481,  0.89733067,  0.84926138,  0.79285863,  0.72867589,\n",
       "        0.65734293,  0.57955974,  0.49608956,  0.40775146,  0.31541225,\n",
       "        0.21997803,  0.12238526,  0.02359156, -0.07543362, -0.17371861,\n",
       "       -0.27029897, -0.36422699, -0.454581  , -0.54047439, -0.62106432,\n",
       "       -0.69556   , -0.76323043, -0.82341158, -0.87551293, -0.91902322,\n",
       "       -0.95351551, -0.97865134, -0.99418405, -0.99996124, -0.99592621,\n",
       "       -0.98211856, -0.95867377, -0.92582191, -0.88388533, -0.83327553,\n",
       "       -0.77448914, -0.708103  , -0.63476853, -0.55520534, -0.47019413,\n",
       "       -0.3805691 , -0.2872097 , -0.19103203, -0.09297984,  0.00598473,\n",
       "        0.10489057,  0.20276716,  0.29865408,  0.39161043,  0.48072406,\n",
       "        0.56512055,  0.64397173,  0.71650387,  0.78200525,  0.83983313,\n",
       "        0.88942007,  0.93027948,  0.96201044,  0.98430158,  0.99693416,\n",
       "        0.99978423,  0.99282382,  0.97612123,  0.94984035,  0.91423907,\n",
       "        0.86966674,  0.81656071,  0.75544211,  0.68691065,  0.61163882,\n",
       "        0.53036522,  0.44388736,  0.35305382,  0.2587559 ,  0.16191891,\n",
       "        0.06349308, -0.03555579, -0.13425576, -0.23163833, -0.32674793,\n",
       "       -0.41865128, -0.50644658, -0.58927232, -0.66631577, -0.73682093,\n",
       "       -0.80009596, -0.85551998, -0.90254912, -0.94072191, -0.96966378,\n",
       "       -0.98909072, -0.99881212, -0.99873258, -0.98885287, -0.96926996,\n",
       "       -0.94017598, -0.90185644, -0.85468735, -0.79913155, -0.73573419,\n",
       "       -0.66511738, -0.58797403, -0.50506113, -0.41719227, -0.32522967,\n",
       "       -0.23007573, -0.13266414, -0.03395077,  0.06509574,  0.16350349,\n",
       "        0.26030685,  0.35455593,  0.44532589,  0.53172604,  0.61290859,\n",
       "        0.6880769 ,  0.7564934 ,  0.81748673,  0.87045839,  0.9148886 ,\n",
       "        0.95034137,  0.97646883,  0.99301459,  0.9998163 ,  0.99680721,\n",
       "        0.98401686,  0.96157075,  0.92968913,  0.88868484,  0.83896025,\n",
       "        0.78100328,  0.71538264,  0.64274224,  0.56379487,  0.4793152 ,\n",
       "        0.39013221,  0.29712101,  0.20119428,  0.10329331,  0.00437877,\n",
       "       -0.09457874, -0.19260819, -0.28874765, -0.38205375, -0.47161091,\n",
       "       -0.55654034, -0.63600866, -0.70923609, -0.77550407, -0.83416234,\n",
       "       -0.88463531, -0.92642771, -0.95912945, -0.98241964, -0.99606974,\n",
       "       -0.99994581, -0.99400982, -0.97832   , -0.95303033, -0.91838895,\n",
       "       -0.8747358 , -0.82249921, -0.76219177, -0.69440525, -0.61980481,\n",
       "       -0.53912248, -0.45314995, -0.36273085, -0.26875242, -0.17213682,\n",
       "       -0.07383212,  0.02519707,  0.12397901,  0.22154439,  0.31693585,\n",
       "        0.40921735,  0.49748335,  0.58086776,  0.65855234,  0.72977482,\n",
       "        0.79383631,  0.8501082 ,  0.89803833,  0.93715636,  0.96707846,\n",
       "        0.98751101,  0.99825351,  0.99920055,  0.99034283,  0.97176729,\n",
       "        0.94365618,  0.90628535,  0.86002151,  0.80531863,  0.74271348,\n",
       "        0.67282038,  0.59632517,  0.51397846,  0.42658828,  0.33501217,\n",
       "        0.24014871,  0.14292877,  0.04430634, -0.05475086, -0.15327081,\n",
       "       -0.25028678, -0.34484678, -0.43602295, -0.52292059, -0.60468702,\n",
       "       -0.68051991, -0.74967512, -0.81147408, -0.86531037, -0.91065571,\n",
       "       -0.94706516, -0.97418144, -0.99173847, -0.99956397, -0.99758116,\n",
       "       -0.98580948, -0.96436445, -0.93345649, -0.89338891, -0.84455486,\n",
       "       -0.78743354, -0.72258544, -0.65064691, -0.57232384, -0.48838479,\n",
       "       -0.39965342, -0.3070004 , -0.21133492, -0.11359569, -0.01474179,\n",
       "        0.08425676,  0.18242853,  0.27881021,  0.37245604,  0.4624471 ,\n",
       "        0.54790036,  0.62797729,  0.70189213,  0.76891959,  0.82840195,\n",
       "        0.87975554,  0.92247644,  0.95614545,  0.98043219,  0.99509834,\n",
       "        1.        ,  0.99508906,  0.98041371,  0.95611795,  0.9224402 ,\n",
       "        0.87971091,  0.82834937,  0.76885958,  0.70182527,  0.62790424,\n",
       "        0.54782183,  0.46236387,  0.37236893,  0.27872007,  0.18233625,\n",
       "        0.08416323, -0.01483565, -0.11368895, -0.21142666, -0.30708973,\n",
       "       -0.39973946, -0.4884667 , -0.57240081, -0.65071819, -0.72265033,\n",
       "       -0.78749139, -0.84460512, -0.89343108, -0.93349016, -0.96438928,\n",
       "       -0.98582523, -0.99758768, -0.9995612 , -0.99172643, -0.97416025,\n",
       "       -0.94703503, -0.91061693, -0.86526332, -0.81141922, -0.749613  ,\n",
       "       -0.68045113, -0.60461226, -0.52284058, -0.43593847, -0.34475868,\n",
       "       -0.2501959 , -0.15317806, -0.05465714,  0.04440011,  0.14302167,\n",
       "        0.24023983,  0.3351006 ,  0.42667317,  0.51405897,  0.59640051,\n",
       "        0.67288982,  0.74277633,  0.80537427,  0.86006941,  0.90632502,\n",
       "        0.94368724,  0.97178943,  0.99035584,  0.99920429,  0.99824796,\n",
       "        0.98749621,  0.96705457,  0.93712361,  0.89799703,  0.85005877,\n",
       "        0.79377922,  0.72971064,  0.6584817 ,  0.58079135,  0.49740193,\n",
       "        0.4091317 ,  0.31684682,  0.22145286,  0.12388587,  0.02510324,\n",
       "       -0.07392573, -0.17222928, -0.26884283, -0.36281832, -0.45323363,\n",
       "       -0.53920153, -0.61987847, -0.69447279, -0.76225253, -0.8225526 ,\n",
       "       -0.87478128, -0.91842609, -0.95305876, -0.97833944, -0.99402007,\n",
       "       -0.99994678, -0.99606142, -0.98240211, -0.95910289, -0.92639237,\n",
       "       -0.88459154, -0.83411057, -0.7754448 , -0.70916991, -0.63593623,\n",
       "       -0.55646235, -0.47152814, -0.38196701, -0.28865779, -0.19251609,\n",
       "       -0.0944853 ,  0.00447263,  0.10338667,  0.20128622,  0.29721063,\n",
       "        0.39021863,  0.47939758,  0.56387239,  0.64281414,  0.71544822,\n",
       "        0.7810619 ,  0.83901133,  0.88872788,  0.9297237 ,  0.96159651,\n",
       "        0.98403357,  0.9968147 ,  0.9998145 ,  0.99300351,  0.97644858,\n",
       "        0.95031216,  0.9148507 ,  0.87041219,  0.81743267,  0.75643201,\n",
       "        0.68800879,  0.61283442,  0.53164655,  0.44524184,  0.35446816,\n",
       "        0.26021622,  0.16341089,  0.06500207, -0.03404458, -0.13275717,\n",
       "       -0.23016707, -0.32531843, -0.41727758, -0.50514214, -0.58804995,\n",
       "       -0.66518746, -0.73579776, -0.79918797, -0.85473607, -0.90189699,\n",
       "       -0.94020796, -0.96929304, -0.98886685, -0.9987373 , -0.99880754,\n",
       "       -0.98907689, -0.96964083, -0.94069007, -0.9025087 , -0.85547138,\n",
       "       -0.80003965, -0.73675747, -0.66624577, -0.58919648, -0.50636564])"
      ]
     },
     "execution_count": 38,
     "metadata": {},
     "output_type": "execute_result"
    }
   ],
   "source": [
    "y"
   ]
  },
  {
   "cell_type": "code",
   "execution_count": 34,
   "metadata": {},
   "outputs": [],
   "source": [
    "import matplotlib.pyplot as plt"
   ]
  },
  {
   "cell_type": "code",
   "execution_count": 36,
   "metadata": {},
   "outputs": [
    {
     "data": {
      "text/plain": [
       "[<matplotlib.lines.Line2D at 0x1bcff5751c8>]"
      ]
     },
     "execution_count": 36,
     "metadata": {},
     "output_type": "execute_result"
    },
    {
     "data": {
      "image/png": "[encoded data removed]",
      "text/plain": [
       "<Figure size 432x288 with 1 Axes>"
      ]
     },
     "metadata": {
      "needs_background": "light"
     },
     "output_type": "display_data"
    }
   ],
   "source": [
    "plt.plot(x,y)"
   ]
  },
  {
   "cell_type": "code",
   "execution_count": 44,
   "metadata": {},
   "outputs": [],
   "source": [
    "x = np.array([1,2,3,3,3,3,3,3,3,3,3,5,6])"
   ]
  },
  {
   "cell_type": "code",
   "execution_count": 45,
   "metadata": {},
   "outputs": [
    {
     "data": {
      "text/plain": [
       "array([1, 2, 3, 5, 6])"
      ]
     },
     "execution_count": 45,
     "metadata": {},
     "output_type": "execute_result"
    }
   ],
   "source": [
    "np.unique(x)"
   ]
  },
  {
   "cell_type": "code",
   "execution_count": 1,
   "metadata": {},
   "outputs": [],
   "source": [
    "import pandas as pd\n",
    "import numpy as np\n"
   ]
  },
  {
   "cell_type": "code",
   "execution_count": 11,
   "metadata": {},
   "outputs": [],
   "source": [
    "df = pd.DataFrame({'A': {0: 'a', 1: 'b', 2: 'c'},\n",
    "                   'B': {0: np.nan, 1: 3, 2: 5},\n",
    "                   'C': {0: 2, 1: 4, 2: 6}})"
   ]
  },
  {
   "cell_type": "code",
   "execution_count": 13,
   "metadata": {},
   "outputs": [
    {
     "data": {
      "text/html": [
       "<div>\n",
       "<style scoped>\n",
       "    .dataframe tbody tr th:only-of-type {\n",
       "        vertical-align: middle;\n",
       "    }\n",
       "\n",
       "    .dataframe tbody tr th {\n",
       "        vertical-align: top;\n",
       "    }\n",
       "\n",
       "    .dataframe thead th {\n",
       "        text-align: right;\n",
       "    }\n",
       "</style>\n",
       "<table border=\"1\" class=\"dataframe\">\n",
       "  <thead>\n",
       "    <tr style=\"text-align: right;\">\n",
       "      <th></th>\n",
       "      <th>A</th>\n",
       "      <th>B</th>\n",
       "      <th>C</th>\n",
       "    </tr>\n",
       "  </thead>\n",
       "  <tbody>\n",
       "    <tr>\n",
       "      <th>0</th>\n",
       "      <td>a</td>\n",
       "      <td>NaN</td>\n",
       "      <td>2</td>\n",
       "    </tr>\n",
       "    <tr>\n",
       "      <th>1</th>\n",
       "      <td>b</td>\n",
       "      <td>3.0</td>\n",
       "      <td>4</td>\n",
       "    </tr>\n",
       "    <tr>\n",
       "      <th>2</th>\n",
       "      <td>c</td>\n",
       "      <td>5.0</td>\n",
       "      <td>6</td>\n",
       "    </tr>\n",
       "  </tbody>\n",
       "</table>\n",
       "</div>"
      ],
      "text/plain": [
       "   A    B  C\n",
       "0  a  NaN  2\n",
       "1  b  3.0  4\n",
       "2  c  5.0  6"
      ]
     },
     "execution_count": 13,
     "metadata": {},
     "output_type": "execute_result"
    }
   ],
   "source": [
    "df"
   ]
  },
  {
   "cell_type": "code",
   "execution_count": 19,
   "metadata": {},
   "outputs": [
    {
     "data": {
      "text/plain": [
       "0     True\n",
       "1    False\n",
       "2    False\n",
       "Name: B, dtype: bool"
      ]
     },
     "execution_count": 19,
     "metadata": {},
     "output_type": "execute_result"
    }
   ],
   "source": [
    "df[\"B\"].isnull()"
   ]
  },
  {
   "cell_type": "code",
   "execution_count": 25,
   "metadata": {},
   "outputs": [
    {
     "data": {
      "text/html": [
       "<div>\n",
       "<style scoped>\n",
       "    .dataframe tbody tr th:only-of-type {\n",
       "        vertical-align: middle;\n",
       "    }\n",
       "\n",
       "    .dataframe tbody tr th {\n",
       "        vertical-align: top;\n",
       "    }\n",
       "\n",
       "    .dataframe thead th {\n",
       "        text-align: right;\n",
       "    }\n",
       "</style>\n",
       "<table border=\"1\" class=\"dataframe\">\n",
       "  <thead>\n",
       "    <tr style=\"text-align: right;\">\n",
       "      <th></th>\n",
       "      <th>A</th>\n",
       "      <th>B</th>\n",
       "      <th>C</th>\n",
       "    </tr>\n",
       "  </thead>\n",
       "  <tbody>\n",
       "    <tr>\n",
       "      <th>1</th>\n",
       "      <td>b</td>\n",
       "      <td>3.0</td>\n",
       "      <td>4</td>\n",
       "    </tr>\n",
       "    <tr>\n",
       "      <th>2</th>\n",
       "      <td>c</td>\n",
       "      <td>5.0</td>\n",
       "      <td>6</td>\n",
       "    </tr>\n",
       "  </tbody>\n",
       "</table>\n",
       "</div>"
      ],
      "text/plain": [
       "   A    B  C\n",
       "1  b  3.0  4\n",
       "2  c  5.0  6"
      ]
     },
     "execution_count": 25,
     "metadata": {},
     "output_type": "execute_result"
    }
   ],
   "source": [
    "df.loc[~df[\"B\"].isnull()]"
   ]
  },
  {
   "cell_type": "code",
   "execution_count": 5,
   "metadata": {},
   "outputs": [
    {
     "data": {
      "text/html": [
       "<div>\n",
       "<style scoped>\n",
       "    .dataframe tbody tr th:only-of-type {\n",
       "        vertical-align: middle;\n",
       "    }\n",
       "\n",
       "    .dataframe tbody tr th {\n",
       "        vertical-align: top;\n",
       "    }\n",
       "\n",
       "    .dataframe thead th {\n",
       "        text-align: right;\n",
       "    }\n",
       "</style>\n",
       "<table border=\"1\" class=\"dataframe\">\n",
       "  <thead>\n",
       "    <tr style=\"text-align: right;\">\n",
       "      <th></th>\n",
       "      <th>A</th>\n",
       "      <th>variable</th>\n",
       "      <th>value</th>\n",
       "    </tr>\n",
       "  </thead>\n",
       "  <tbody>\n",
       "    <tr>\n",
       "      <th>0</th>\n",
       "      <td>a</td>\n",
       "      <td>B</td>\n",
       "      <td>1</td>\n",
       "    </tr>\n",
       "    <tr>\n",
       "      <th>1</th>\n",
       "      <td>b</td>\n",
       "      <td>B</td>\n",
       "      <td>3</td>\n",
       "    </tr>\n",
       "    <tr>\n",
       "      <th>2</th>\n",
       "      <td>c</td>\n",
       "      <td>B</td>\n",
       "      <td>5</td>\n",
       "    </tr>\n",
       "    <tr>\n",
       "      <th>3</th>\n",
       "      <td>a</td>\n",
       "      <td>C</td>\n",
       "      <td>2</td>\n",
       "    </tr>\n",
       "    <tr>\n",
       "      <th>4</th>\n",
       "      <td>b</td>\n",
       "      <td>C</td>\n",
       "      <td>4</td>\n",
       "    </tr>\n",
       "    <tr>\n",
       "      <th>5</th>\n",
       "      <td>c</td>\n",
       "      <td>C</td>\n",
       "      <td>6</td>\n",
       "    </tr>\n",
       "  </tbody>\n",
       "</table>\n",
       "</div>"
      ],
      "text/plain": [
       "   A variable  value\n",
       "0  a        B      1\n",
       "1  b        B      3\n",
       "2  c        B      5\n",
       "3  a        C      2\n",
       "4  b        C      4\n",
       "5  c        C      6"
      ]
     },
     "execution_count": 5,
     "metadata": {},
     "output_type": "execute_result"
    }
   ],
   "source": [
    "pd.melt(df, id_vars=['A'], value_vars=['B','C'])"
   ]
  },
  {
   "cell_type": "code",
   "execution_count": 18,
   "metadata": {},
   "outputs": [],
   "source": [
    "df = pd.DataFrame({'x': [1,2]})\n"
   ]
  },
  {
   "cell_type": "code",
   "execution_count": 20,
   "metadata": {},
   "outputs": [
    {
     "data": {
      "text/html": [
       "<div>\n",
       "<style scoped>\n",
       "    .dataframe tbody tr th:only-of-type {\n",
       "        vertical-align: middle;\n",
       "    }\n",
       "\n",
       "    .dataframe tbody tr th {\n",
       "        vertical-align: top;\n",
       "    }\n",
       "\n",
       "    .dataframe thead th {\n",
       "        text-align: right;\n",
       "    }\n",
       "</style>\n",
       "<table border=\"1\" class=\"dataframe\">\n",
       "  <thead>\n",
       "    <tr style=\"text-align: right;\">\n",
       "      <th></th>\n",
       "      <th>x</th>\n",
       "    </tr>\n",
       "  </thead>\n",
       "  <tbody>\n",
       "    <tr>\n",
       "      <th>0</th>\n",
       "      <td>1</td>\n",
       "    </tr>\n",
       "    <tr>\n",
       "      <th>1</th>\n",
       "      <td>2</td>\n",
       "    </tr>\n",
       "  </tbody>\n",
       "</table>\n",
       "</div>"
      ],
      "text/plain": [
       "   x\n",
       "0  1\n",
       "1  2"
      ]
     },
     "execution_count": 20,
     "metadata": {},
     "output_type": "execute_result"
    }
   ],
   "source": [
    "df"
   ]
  },
  {
   "cell_type": "code",
   "execution_count": 21,
   "metadata": {},
   "outputs": [
    {
     "name": "stderr",
     "output_type": "stream",
     "text": [
      "C:\\Users\\marco\\AppData\\Local\\Programs\\Python\\Python37\\lib\\site-packages\\pandas\\core\\generic.py:5516: SettingWithCopyWarning: \n",
      "A value is trying to be set on a copy of a slice from a DataFrame.\n",
      "Try using .loc[row_indexer,col_indexer] = value instead\n",
      "\n",
      "See the caveats in the documentation: https://pandas.pydata.org/pandas-docs/stable/user_guide/indexing.html#returning-a-view-versus-a-copy\n",
      "  self[name] = value\n"
     ]
    }
   ],
   "source": [
    "df_sub = df[0:1]\n",
    "df_sub.x = -1"
   ]
  },
  {
   "cell_type": "code",
   "execution_count": 23,
   "metadata": {},
   "outputs": [
    {
     "data": {
      "text/html": [
       "<div>\n",
       "<style scoped>\n",
       "    .dataframe tbody tr th:only-of-type {\n",
       "        vertical-align: middle;\n",
       "    }\n",
       "\n",
       "    .dataframe tbody tr th {\n",
       "        vertical-align: top;\n",
       "    }\n",
       "\n",
       "    .dataframe thead th {\n",
       "        text-align: right;\n",
       "    }\n",
       "</style>\n",
       "<table border=\"1\" class=\"dataframe\">\n",
       "  <thead>\n",
       "    <tr style=\"text-align: right;\">\n",
       "      <th></th>\n",
       "      <th>x</th>\n",
       "    </tr>\n",
       "  </thead>\n",
       "  <tbody>\n",
       "    <tr>\n",
       "      <th>0</th>\n",
       "      <td>-1</td>\n",
       "    </tr>\n",
       "    <tr>\n",
       "      <th>1</th>\n",
       "      <td>2</td>\n",
       "    </tr>\n",
       "  </tbody>\n",
       "</table>\n",
       "</div>"
      ],
      "text/plain": [
       "   x\n",
       "0 -1\n",
       "1  2"
      ]
     },
     "execution_count": 23,
     "metadata": {},
     "output_type": "execute_result"
    }
   ],
   "source": [
    "df"
   ]
  },
  {
   "cell_type": "code",
   "execution_count": 24,
   "metadata": {},
   "outputs": [],
   "source": [
    "df_sub_copy = df[0:1].copy()\n",
    "df_sub_copy.x = -1"
   ]
  },
  {
   "cell_type": "code",
   "execution_count": 4,
   "metadata": {},
   "outputs": [],
   "source": [
    "import pandas as pd\n",
    "import numpy as np"
   ]
  },
  {
   "cell_type": "code",
   "execution_count": 5,
   "metadata": {},
   "outputs": [],
   "source": [
    "df1 = pd.DataFrame(np.random.randn(6, 4),\n",
    "                   index=list('abcdef'),\n",
    "                   columns=list('ABCD'))"
   ]
  },
  {
   "cell_type": "code",
   "execution_count": 6,
   "metadata": {},
   "outputs": [],
   "source": [
    "mask = pd.array([True, False, True, False, pd.NA, False], dtype=\"boolean\")"
   ]
  },
  {
   "cell_type": "code",
   "execution_count": 8,
   "metadata": {},
   "outputs": [
    {
     "data": {
      "text/html": [
       "<div>\n",
       "<style scoped>\n",
       "    .dataframe tbody tr th:only-of-type {\n",
       "        vertical-align: middle;\n",
       "    }\n",
       "\n",
       "    .dataframe tbody tr th {\n",
       "        vertical-align: top;\n",
       "    }\n",
       "\n",
       "    .dataframe thead th {\n",
       "        text-align: right;\n",
       "    }\n",
       "</style>\n",
       "<table border=\"1\" class=\"dataframe\">\n",
       "  <thead>\n",
       "    <tr style=\"text-align: right;\">\n",
       "      <th></th>\n",
       "      <th>A</th>\n",
       "      <th>B</th>\n",
       "      <th>C</th>\n",
       "      <th>D</th>\n",
       "    </tr>\n",
       "  </thead>\n",
       "  <tbody>\n",
       "    <tr>\n",
       "      <th>a</th>\n",
       "      <td>-0.004919</td>\n",
       "      <td>2.108735</td>\n",
       "      <td>-0.041675</td>\n",
       "      <td>-0.482996</td>\n",
       "    </tr>\n",
       "    <tr>\n",
       "      <th>b</th>\n",
       "      <td>-0.441433</td>\n",
       "      <td>0.579159</td>\n",
       "      <td>0.544765</td>\n",
       "      <td>-0.061695</td>\n",
       "    </tr>\n",
       "    <tr>\n",
       "      <th>c</th>\n",
       "      <td>0.272412</td>\n",
       "      <td>0.957367</td>\n",
       "      <td>0.216186</td>\n",
       "      <td>-1.161454</td>\n",
       "    </tr>\n",
       "    <tr>\n",
       "      <th>d</th>\n",
       "      <td>0.079649</td>\n",
       "      <td>1.176277</td>\n",
       "      <td>-0.360310</td>\n",
       "      <td>-1.263106</td>\n",
       "    </tr>\n",
       "    <tr>\n",
       "      <th>e</th>\n",
       "      <td>-1.466301</td>\n",
       "      <td>1.347158</td>\n",
       "      <td>0.435418</td>\n",
       "      <td>-1.203003</td>\n",
       "    </tr>\n",
       "    <tr>\n",
       "      <th>f</th>\n",
       "      <td>-0.176468</td>\n",
       "      <td>0.754654</td>\n",
       "      <td>-0.659564</td>\n",
       "      <td>1.031708</td>\n",
       "    </tr>\n",
       "  </tbody>\n",
       "</table>\n",
       "</div>"
      ],
      "text/plain": [
       "          A         B         C         D\n",
       "a -0.004919  2.108735 -0.041675 -0.482996\n",
       "b -0.441433  0.579159  0.544765 -0.061695\n",
       "c  0.272412  0.957367  0.216186 -1.161454\n",
       "d  0.079649  1.176277 -0.360310 -1.263106\n",
       "e -1.466301  1.347158  0.435418 -1.203003\n",
       "f -0.176468  0.754654 -0.659564  1.031708"
      ]
     },
     "execution_count": 8,
     "metadata": {},
     "output_type": "execute_result"
    }
   ],
   "source": [
    "df1"
   ]
  },
  {
   "cell_type": "code",
   "execution_count": 7,
   "metadata": {},
   "outputs": [
    {
     "data": {
      "text/html": [
       "<div>\n",
       "<style scoped>\n",
       "    .dataframe tbody tr th:only-of-type {\n",
       "        vertical-align: middle;\n",
       "    }\n",
       "\n",
       "    .dataframe tbody tr th {\n",
       "        vertical-align: top;\n",
       "    }\n",
       "\n",
       "    .dataframe thead th {\n",
       "        text-align: right;\n",
       "    }\n",
       "</style>\n",
       "<table border=\"1\" class=\"dataframe\">\n",
       "  <thead>\n",
       "    <tr style=\"text-align: right;\">\n",
       "      <th></th>\n",
       "      <th>A</th>\n",
       "      <th>B</th>\n",
       "      <th>C</th>\n",
       "      <th>D</th>\n",
       "    </tr>\n",
       "  </thead>\n",
       "  <tbody>\n",
       "    <tr>\n",
       "      <th>a</th>\n",
       "      <td>-0.004919</td>\n",
       "      <td>2.108735</td>\n",
       "      <td>-0.041675</td>\n",
       "      <td>-0.482996</td>\n",
       "    </tr>\n",
       "    <tr>\n",
       "      <th>c</th>\n",
       "      <td>0.272412</td>\n",
       "      <td>0.957367</td>\n",
       "      <td>0.216186</td>\n",
       "      <td>-1.161454</td>\n",
       "    </tr>\n",
       "  </tbody>\n",
       "</table>\n",
       "</div>"
      ],
      "text/plain": [
       "          A         B         C         D\n",
       "a -0.004919  2.108735 -0.041675 -0.482996\n",
       "c  0.272412  0.957367  0.216186 -1.161454"
      ]
     },
     "execution_count": 7,
     "metadata": {},
     "output_type": "execute_result"
    }
   ],
   "source": [
    "df1[mask]"
   ]
  },
  {
   "cell_type": "code",
   "execution_count": 7,
   "metadata": {},
   "outputs": [],
   "source": [
    "import pandas as pd"
   ]
  },
  {
   "cell_type": "code",
   "execution_count": 11,
   "metadata": {},
   "outputs": [],
   "source": [
    "df1 = pd.read_csv(r\"C:\\Users\\marco\\Documents\\Demosss\\color_ojos.csv\",sep=\";\")\n",
    "df2 = pd.read_csv(r\"C:\\Users\\marco\\Documents\\Demosss\\color_pelo.csv\",sep=\";\")"
   ]
  },
  {
   "cell_type": "code",
   "execution_count": 15,
   "metadata": {},
   "outputs": [],
   "source": [
    "df3 = df1.merge(df2, on=\"PERSONA\")"
   ]
  },
  {
   "cell_type": "code",
   "execution_count": 19,
   "metadata": {},
   "outputs": [],
   "source": [
    "import random\n",
    "random.seed(10)\n",
    "data = pd.DataFrame({\n",
    "    'Name' : ['Jack', 'Owen', 'Theodore', 'Aiden', 'Samuel', 'Joseph', 'John', 'David', 'Wyatt', 'Matthew'],\n",
    "    'Team' : ['team_a', 'team_b', 'team_c']*3 +['team_a'],\n",
    "    'Games' : random.sample(range(5, 34), 10),\n",
    "    'January' : random.sample(range(1, 50), 10),\n",
    "    'February' : random.sample(range(1, 50), 10),\n",
    "    'March' : random.sample(range(1, 50), 10),\n",
    "    'April' : random.sample(range(1, 50), 10),\n",
    "    'May' : random.sample(range(1, 50), 10),\n",
    "    'June' : random.sample(range(1, 50), 10),\n",
    "    'July' : random.sample(range(1, 50), 10),\n",
    "    'August' : random.sample(range(1, 50), 10),\n",
    "    'September' : random.sample(range(1, 50), 10),\n",
    "    'October' : random.sample(range(1, 50), 10),\n",
    "    'November' : random.sample(range(1, 50), 10)\n",
    "})\n",
    "data.to_csv(\"team_samples.csv\")"
   ]
  },
  {
   "cell_type": "code",
   "execution_count": 20,
   "metadata": {},
   "outputs": [
    {
     "data": {
      "text/html": [
       "<div>\n",
       "<style scoped>\n",
       "    .dataframe tbody tr th:only-of-type {\n",
       "        vertical-align: middle;\n",
       "    }\n",
       "\n",
       "    .dataframe tbody tr th {\n",
       "        vertical-align: top;\n",
       "    }\n",
       "\n",
       "    .dataframe thead th {\n",
       "        text-align: right;\n",
       "    }\n",
       "</style>\n",
       "<table border=\"1\" class=\"dataframe\">\n",
       "  <thead>\n",
       "    <tr style=\"text-align: right;\">\n",
       "      <th></th>\n",
       "      <th>Name</th>\n",
       "      <th>Team</th>\n",
       "      <th>Games</th>\n",
       "      <th>January</th>\n",
       "      <th>February</th>\n",
       "      <th>March</th>\n",
       "      <th>April</th>\n",
       "      <th>May</th>\n",
       "      <th>June</th>\n",
       "      <th>July</th>\n",
       "      <th>August</th>\n",
       "      <th>September</th>\n",
       "      <th>October</th>\n",
       "      <th>November</th>\n",
       "    </tr>\n",
       "  </thead>\n",
       "  <tbody>\n",
       "    <tr>\n",
       "      <th>0</th>\n",
       "      <td>Jack</td>\n",
       "      <td>team_a</td>\n",
       "      <td>23</td>\n",
       "      <td>42</td>\n",
       "      <td>27</td>\n",
       "      <td>44</td>\n",
       "      <td>3</td>\n",
       "      <td>21</td>\n",
       "      <td>33</td>\n",
       "      <td>43</td>\n",
       "      <td>8</td>\n",
       "      <td>44</td>\n",
       "      <td>11</td>\n",
       "      <td>1</td>\n",
       "    </tr>\n",
       "    <tr>\n",
       "      <th>1</th>\n",
       "      <td>Owen</td>\n",
       "      <td>team_b</td>\n",
       "      <td>6</td>\n",
       "      <td>11</td>\n",
       "      <td>9</td>\n",
       "      <td>20</td>\n",
       "      <td>38</td>\n",
       "      <td>43</td>\n",
       "      <td>11</td>\n",
       "      <td>5</td>\n",
       "      <td>7</td>\n",
       "      <td>18</td>\n",
       "      <td>43</td>\n",
       "      <td>35</td>\n",
       "    </tr>\n",
       "    <tr>\n",
       "      <th>2</th>\n",
       "      <td>Theodore</td>\n",
       "      <td>team_c</td>\n",
       "      <td>18</td>\n",
       "      <td>3</td>\n",
       "      <td>39</td>\n",
       "      <td>43</td>\n",
       "      <td>1</td>\n",
       "      <td>36</td>\n",
       "      <td>15</td>\n",
       "      <td>35</td>\n",
       "      <td>29</td>\n",
       "      <td>10</td>\n",
       "      <td>42</td>\n",
       "      <td>46</td>\n",
       "    </tr>\n",
       "    <tr>\n",
       "      <th>3</th>\n",
       "      <td>Aiden</td>\n",
       "      <td>team_a</td>\n",
       "      <td>20</td>\n",
       "      <td>34</td>\n",
       "      <td>23</td>\n",
       "      <td>24</td>\n",
       "      <td>16</td>\n",
       "      <td>29</td>\n",
       "      <td>27</td>\n",
       "      <td>6</td>\n",
       "      <td>11</td>\n",
       "      <td>40</td>\n",
       "      <td>12</td>\n",
       "      <td>3</td>\n",
       "    </tr>\n",
       "    <tr>\n",
       "      <th>4</th>\n",
       "      <td>Samuel</td>\n",
       "      <td>team_b</td>\n",
       "      <td>33</td>\n",
       "      <td>32</td>\n",
       "      <td>25</td>\n",
       "      <td>9</td>\n",
       "      <td>9</td>\n",
       "      <td>28</td>\n",
       "      <td>16</td>\n",
       "      <td>10</td>\n",
       "      <td>13</td>\n",
       "      <td>34</td>\n",
       "      <td>46</td>\n",
       "      <td>22</td>\n",
       "    </tr>\n",
       "    <tr>\n",
       "      <th>5</th>\n",
       "      <td>Joseph</td>\n",
       "      <td>team_c</td>\n",
       "      <td>5</td>\n",
       "      <td>21</td>\n",
       "      <td>49</td>\n",
       "      <td>30</td>\n",
       "      <td>13</td>\n",
       "      <td>31</td>\n",
       "      <td>3</td>\n",
       "      <td>25</td>\n",
       "      <td>23</td>\n",
       "      <td>12</td>\n",
       "      <td>31</td>\n",
       "      <td>21</td>\n",
       "    </tr>\n",
       "    <tr>\n",
       "      <th>6</th>\n",
       "      <td>John</td>\n",
       "      <td>team_a</td>\n",
       "      <td>11</td>\n",
       "      <td>5</td>\n",
       "      <td>19</td>\n",
       "      <td>16</td>\n",
       "      <td>20</td>\n",
       "      <td>5</td>\n",
       "      <td>44</td>\n",
       "      <td>37</td>\n",
       "      <td>28</td>\n",
       "      <td>8</td>\n",
       "      <td>23</td>\n",
       "      <td>16</td>\n",
       "    </tr>\n",
       "    <tr>\n",
       "      <th>7</th>\n",
       "      <td>David</td>\n",
       "      <td>team_b</td>\n",
       "      <td>19</td>\n",
       "      <td>16</td>\n",
       "      <td>17</td>\n",
       "      <td>29</td>\n",
       "      <td>35</td>\n",
       "      <td>42</td>\n",
       "      <td>32</td>\n",
       "      <td>24</td>\n",
       "      <td>27</td>\n",
       "      <td>48</td>\n",
       "      <td>21</td>\n",
       "      <td>6</td>\n",
       "    </tr>\n",
       "    <tr>\n",
       "      <th>8</th>\n",
       "      <td>Wyatt</td>\n",
       "      <td>team_c</td>\n",
       "      <td>30</td>\n",
       "      <td>24</td>\n",
       "      <td>30</td>\n",
       "      <td>40</td>\n",
       "      <td>24</td>\n",
       "      <td>38</td>\n",
       "      <td>20</td>\n",
       "      <td>39</td>\n",
       "      <td>47</td>\n",
       "      <td>30</td>\n",
       "      <td>28</td>\n",
       "      <td>17</td>\n",
       "    </tr>\n",
       "    <tr>\n",
       "      <th>9</th>\n",
       "      <td>Matthew</td>\n",
       "      <td>team_a</td>\n",
       "      <td>13</td>\n",
       "      <td>47</td>\n",
       "      <td>12</td>\n",
       "      <td>25</td>\n",
       "      <td>46</td>\n",
       "      <td>49</td>\n",
       "      <td>39</td>\n",
       "      <td>45</td>\n",
       "      <td>16</td>\n",
       "      <td>20</td>\n",
       "      <td>15</td>\n",
       "      <td>29</td>\n",
       "    </tr>\n",
       "  </tbody>\n",
       "</table>\n",
       "</div>"
      ],
      "text/plain": [
       "       Name    Team  Games  January  February  March  April  May  June  July  \\\n",
       "0      Jack  team_a     23       42        27     44      3   21    33    43   \n",
       "1      Owen  team_b      6       11         9     20     38   43    11     5   \n",
       "2  Theodore  team_c     18        3        39     43      1   36    15    35   \n",
       "3     Aiden  team_a     20       34        23     24     16   29    27     6   \n",
       "4    Samuel  team_b     33       32        25      9      9   28    16    10   \n",
       "5    Joseph  team_c      5       21        49     30     13   31     3    25   \n",
       "6      John  team_a     11        5        19     16     20    5    44    37   \n",
       "7     David  team_b     19       16        17     29     35   42    32    24   \n",
       "8     Wyatt  team_c     30       24        30     40     24   38    20    39   \n",
       "9   Matthew  team_a     13       47        12     25     46   49    39    45   \n",
       "\n",
       "   August  September  October  November  \n",
       "0       8         44       11         1  \n",
       "1       7         18       43        35  \n",
       "2      29         10       42        46  \n",
       "3      11         40       12         3  \n",
       "4      13         34       46        22  \n",
       "5      23         12       31        21  \n",
       "6      28          8       23        16  \n",
       "7      27         48       21         6  \n",
       "8      47         30       28        17  \n",
       "9      16         20       15        29  "
      ]
     },
     "execution_count": 20,
     "metadata": {},
     "output_type": "execute_result"
    }
   ],
   "source": [
    "data"
   ]
  },
  {
   "cell_type": "code",
   "execution_count": 21,
   "metadata": {},
   "outputs": [
    {
     "data": {
      "text/html": [
       "<div>\n",
       "<style scoped>\n",
       "    .dataframe tbody tr th:only-of-type {\n",
       "        vertical-align: middle;\n",
       "    }\n",
       "\n",
       "    .dataframe tbody tr th {\n",
       "        vertical-align: top;\n",
       "    }\n",
       "\n",
       "    .dataframe thead th {\n",
       "        text-align: right;\n",
       "    }\n",
       "</style>\n",
       "<table border=\"1\" class=\"dataframe\">\n",
       "  <thead>\n",
       "    <tr style=\"text-align: right;\">\n",
       "      <th></th>\n",
       "      <th>Name</th>\n",
       "      <th>Team</th>\n",
       "      <th>Games</th>\n",
       "      <th>Month</th>\n",
       "      <th>Score</th>\n",
       "    </tr>\n",
       "  </thead>\n",
       "  <tbody>\n",
       "    <tr>\n",
       "      <th>24</th>\n",
       "      <td>Samuel</td>\n",
       "      <td>team_b</td>\n",
       "      <td>33</td>\n",
       "      <td>March</td>\n",
       "      <td>9</td>\n",
       "    </tr>\n",
       "    <tr>\n",
       "      <th>108</th>\n",
       "      <td>Wyatt</td>\n",
       "      <td>team_c</td>\n",
       "      <td>30</td>\n",
       "      <td>November</td>\n",
       "      <td>17</td>\n",
       "    </tr>\n",
       "    <tr>\n",
       "      <th>86</th>\n",
       "      <td>John</td>\n",
       "      <td>team_a</td>\n",
       "      <td>11</td>\n",
       "      <td>September</td>\n",
       "      <td>8</td>\n",
       "    </tr>\n",
       "    <tr>\n",
       "      <th>67</th>\n",
       "      <td>David</td>\n",
       "      <td>team_b</td>\n",
       "      <td>19</td>\n",
       "      <td>July</td>\n",
       "      <td>24</td>\n",
       "    </tr>\n",
       "    <tr>\n",
       "      <th>8</th>\n",
       "      <td>Wyatt</td>\n",
       "      <td>team_c</td>\n",
       "      <td>30</td>\n",
       "      <td>January</td>\n",
       "      <td>24</td>\n",
       "    </tr>\n",
       "    <tr>\n",
       "      <th>95</th>\n",
       "      <td>Joseph</td>\n",
       "      <td>team_c</td>\n",
       "      <td>5</td>\n",
       "      <td>October</td>\n",
       "      <td>31</td>\n",
       "    </tr>\n",
       "    <tr>\n",
       "      <th>78</th>\n",
       "      <td>Wyatt</td>\n",
       "      <td>team_c</td>\n",
       "      <td>30</td>\n",
       "      <td>August</td>\n",
       "      <td>47</td>\n",
       "    </tr>\n",
       "    <tr>\n",
       "      <th>92</th>\n",
       "      <td>Theodore</td>\n",
       "      <td>team_c</td>\n",
       "      <td>18</td>\n",
       "      <td>October</td>\n",
       "      <td>42</td>\n",
       "    </tr>\n",
       "    <tr>\n",
       "      <th>47</th>\n",
       "      <td>David</td>\n",
       "      <td>team_b</td>\n",
       "      <td>19</td>\n",
       "      <td>May</td>\n",
       "      <td>42</td>\n",
       "    </tr>\n",
       "    <tr>\n",
       "      <th>3</th>\n",
       "      <td>Aiden</td>\n",
       "      <td>team_a</td>\n",
       "      <td>20</td>\n",
       "      <td>January</td>\n",
       "      <td>34</td>\n",
       "    </tr>\n",
       "  </tbody>\n",
       "</table>\n",
       "</div>"
      ],
      "text/plain": [
       "         Name    Team  Games      Month  Score\n",
       "24     Samuel  team_b     33      March      9\n",
       "108     Wyatt  team_c     30   November     17\n",
       "86       John  team_a     11  September      8\n",
       "67      David  team_b     19       July     24\n",
       "8       Wyatt  team_c     30    January     24\n",
       "95     Joseph  team_c      5    October     31\n",
       "78      Wyatt  team_c     30     August     47\n",
       "92   Theodore  team_c     18    October     42\n",
       "47      David  team_b     19        May     42\n",
       "3       Aiden  team_a     20    January     34"
      ]
     },
     "execution_count": 21,
     "metadata": {},
     "output_type": "execute_result"
    }
   ],
   "source": [
    "data.melt(id_vars=['Name','Team','Games'], var_name='Month', value_name='Score').sample(10)"
   ]
  },
  {
   "cell_type": "code",
   "execution_count": 29,
   "metadata": {},
   "outputs": [
    {
     "data": {
      "text/html": [
       "<div>\n",
       "<style scoped>\n",
       "    .dataframe tbody tr th:only-of-type {\n",
       "        vertical-align: middle;\n",
       "    }\n",
       "\n",
       "    .dataframe tbody tr th {\n",
       "        vertical-align: top;\n",
       "    }\n",
       "\n",
       "    .dataframe thead th {\n",
       "        text-align: right;\n",
       "    }\n",
       "</style>\n",
       "<table border=\"1\" class=\"dataframe\">\n",
       "  <thead>\n",
       "    <tr style=\"text-align: right;\">\n",
       "      <th></th>\n",
       "      <th>Name</th>\n",
       "      <th>Team</th>\n",
       "      <th>Games</th>\n",
       "      <th>January</th>\n",
       "      <th>February</th>\n",
       "      <th>March</th>\n",
       "      <th>April</th>\n",
       "      <th>May</th>\n",
       "      <th>June</th>\n",
       "      <th>July</th>\n",
       "      <th>August</th>\n",
       "      <th>September</th>\n",
       "      <th>October</th>\n",
       "      <th>November</th>\n",
       "    </tr>\n",
       "  </thead>\n",
       "  <tbody>\n",
       "    <tr>\n",
       "      <th>0</th>\n",
       "      <td>Jack</td>\n",
       "      <td>team_a</td>\n",
       "      <td>23</td>\n",
       "      <td>42</td>\n",
       "      <td>27</td>\n",
       "      <td>44</td>\n",
       "      <td>3</td>\n",
       "      <td>21</td>\n",
       "      <td>33</td>\n",
       "      <td>43</td>\n",
       "      <td>8</td>\n",
       "      <td>44</td>\n",
       "      <td>11</td>\n",
       "      <td>1</td>\n",
       "    </tr>\n",
       "    <tr>\n",
       "      <th>1</th>\n",
       "      <td>Owen</td>\n",
       "      <td>team_b</td>\n",
       "      <td>6</td>\n",
       "      <td>11</td>\n",
       "      <td>9</td>\n",
       "      <td>20</td>\n",
       "      <td>38</td>\n",
       "      <td>43</td>\n",
       "      <td>11</td>\n",
       "      <td>5</td>\n",
       "      <td>7</td>\n",
       "      <td>18</td>\n",
       "      <td>43</td>\n",
       "      <td>35</td>\n",
       "    </tr>\n",
       "    <tr>\n",
       "      <th>2</th>\n",
       "      <td>Theodore</td>\n",
       "      <td>team_c</td>\n",
       "      <td>18</td>\n",
       "      <td>3</td>\n",
       "      <td>39</td>\n",
       "      <td>43</td>\n",
       "      <td>1</td>\n",
       "      <td>36</td>\n",
       "      <td>15</td>\n",
       "      <td>35</td>\n",
       "      <td>29</td>\n",
       "      <td>10</td>\n",
       "      <td>42</td>\n",
       "      <td>46</td>\n",
       "    </tr>\n",
       "    <tr>\n",
       "      <th>3</th>\n",
       "      <td>Aiden</td>\n",
       "      <td>team_a</td>\n",
       "      <td>20</td>\n",
       "      <td>34</td>\n",
       "      <td>23</td>\n",
       "      <td>24</td>\n",
       "      <td>16</td>\n",
       "      <td>29</td>\n",
       "      <td>27</td>\n",
       "      <td>6</td>\n",
       "      <td>11</td>\n",
       "      <td>40</td>\n",
       "      <td>12</td>\n",
       "      <td>3</td>\n",
       "    </tr>\n",
       "    <tr>\n",
       "      <th>4</th>\n",
       "      <td>Samuel</td>\n",
       "      <td>team_b</td>\n",
       "      <td>33</td>\n",
       "      <td>32</td>\n",
       "      <td>25</td>\n",
       "      <td>9</td>\n",
       "      <td>9</td>\n",
       "      <td>28</td>\n",
       "      <td>16</td>\n",
       "      <td>10</td>\n",
       "      <td>13</td>\n",
       "      <td>34</td>\n",
       "      <td>46</td>\n",
       "      <td>22</td>\n",
       "    </tr>\n",
       "    <tr>\n",
       "      <th>5</th>\n",
       "      <td>Joseph</td>\n",
       "      <td>team_c</td>\n",
       "      <td>5</td>\n",
       "      <td>21</td>\n",
       "      <td>49</td>\n",
       "      <td>30</td>\n",
       "      <td>13</td>\n",
       "      <td>31</td>\n",
       "      <td>3</td>\n",
       "      <td>25</td>\n",
       "      <td>23</td>\n",
       "      <td>12</td>\n",
       "      <td>31</td>\n",
       "      <td>21</td>\n",
       "    </tr>\n",
       "    <tr>\n",
       "      <th>6</th>\n",
       "      <td>John</td>\n",
       "      <td>team_a</td>\n",
       "      <td>11</td>\n",
       "      <td>5</td>\n",
       "      <td>19</td>\n",
       "      <td>16</td>\n",
       "      <td>20</td>\n",
       "      <td>5</td>\n",
       "      <td>44</td>\n",
       "      <td>37</td>\n",
       "      <td>28</td>\n",
       "      <td>8</td>\n",
       "      <td>23</td>\n",
       "      <td>16</td>\n",
       "    </tr>\n",
       "    <tr>\n",
       "      <th>7</th>\n",
       "      <td>David</td>\n",
       "      <td>team_b</td>\n",
       "      <td>19</td>\n",
       "      <td>16</td>\n",
       "      <td>17</td>\n",
       "      <td>29</td>\n",
       "      <td>35</td>\n",
       "      <td>42</td>\n",
       "      <td>32</td>\n",
       "      <td>24</td>\n",
       "      <td>27</td>\n",
       "      <td>48</td>\n",
       "      <td>21</td>\n",
       "      <td>6</td>\n",
       "    </tr>\n",
       "    <tr>\n",
       "      <th>8</th>\n",
       "      <td>Wyatt</td>\n",
       "      <td>team_c</td>\n",
       "      <td>30</td>\n",
       "      <td>24</td>\n",
       "      <td>30</td>\n",
       "      <td>40</td>\n",
       "      <td>24</td>\n",
       "      <td>38</td>\n",
       "      <td>20</td>\n",
       "      <td>39</td>\n",
       "      <td>47</td>\n",
       "      <td>30</td>\n",
       "      <td>28</td>\n",
       "      <td>17</td>\n",
       "    </tr>\n",
       "    <tr>\n",
       "      <th>9</th>\n",
       "      <td>Matthew</td>\n",
       "      <td>team_a</td>\n",
       "      <td>13</td>\n",
       "      <td>47</td>\n",
       "      <td>12</td>\n",
       "      <td>25</td>\n",
       "      <td>46</td>\n",
       "      <td>49</td>\n",
       "      <td>39</td>\n",
       "      <td>45</td>\n",
       "      <td>16</td>\n",
       "      <td>20</td>\n",
       "      <td>15</td>\n",
       "      <td>29</td>\n",
       "    </tr>\n",
       "  </tbody>\n",
       "</table>\n",
       "</div>"
      ],
      "text/plain": [
       "       Name    Team  Games  January  February  March  April  May  June  July  \\\n",
       "0      Jack  team_a     23       42        27     44      3   21    33    43   \n",
       "1      Owen  team_b      6       11         9     20     38   43    11     5   \n",
       "2  Theodore  team_c     18        3        39     43      1   36    15    35   \n",
       "3     Aiden  team_a     20       34        23     24     16   29    27     6   \n",
       "4    Samuel  team_b     33       32        25      9      9   28    16    10   \n",
       "5    Joseph  team_c      5       21        49     30     13   31     3    25   \n",
       "6      John  team_a     11        5        19     16     20    5    44    37   \n",
       "7     David  team_b     19       16        17     29     35   42    32    24   \n",
       "8     Wyatt  team_c     30       24        30     40     24   38    20    39   \n",
       "9   Matthew  team_a     13       47        12     25     46   49    39    45   \n",
       "\n",
       "   August  September  October  November  \n",
       "0       8         44       11         1  \n",
       "1       7         18       43        35  \n",
       "2      29         10       42        46  \n",
       "3      11         40       12         3  \n",
       "4      13         34       46        22  \n",
       "5      23         12       31        21  \n",
       "6      28          8       23        16  \n",
       "7      27         48       21         6  \n",
       "8      47         30       28        17  \n",
       "9      16         20       15        29  "
      ]
     },
     "execution_count": 29,
     "metadata": {},
     "output_type": "execute_result"
    }
   ],
   "source": [
    "data"
   ]
  },
  {
   "cell_type": "code",
   "execution_count": 30,
   "metadata": {},
   "outputs": [
    {
     "data": {
      "text/html": [
       "<div>\n",
       "<style scoped>\n",
       "    .dataframe tbody tr th:only-of-type {\n",
       "        vertical-align: middle;\n",
       "    }\n",
       "\n",
       "    .dataframe tbody tr th {\n",
       "        vertical-align: top;\n",
       "    }\n",
       "\n",
       "    .dataframe thead th {\n",
       "        text-align: right;\n",
       "    }\n",
       "</style>\n",
       "<table border=\"1\" class=\"dataframe\">\n",
       "  <thead>\n",
       "    <tr style=\"text-align: right;\">\n",
       "      <th></th>\n",
       "      <th>Name</th>\n",
       "      <th>Team</th>\n",
       "      <th>Games</th>\n",
       "      <th>Month</th>\n",
       "      <th>Scores</th>\n",
       "    </tr>\n",
       "  </thead>\n",
       "  <tbody>\n",
       "    <tr>\n",
       "      <th>0</th>\n",
       "      <td>Jack</td>\n",
       "      <td>team_a</td>\n",
       "      <td>23</td>\n",
       "      <td>January</td>\n",
       "      <td>42</td>\n",
       "    </tr>\n",
       "    <tr>\n",
       "      <th>1</th>\n",
       "      <td>Jack</td>\n",
       "      <td>team_a</td>\n",
       "      <td>23</td>\n",
       "      <td>February</td>\n",
       "      <td>27</td>\n",
       "    </tr>\n",
       "    <tr>\n",
       "      <th>2</th>\n",
       "      <td>Jack</td>\n",
       "      <td>team_a</td>\n",
       "      <td>23</td>\n",
       "      <td>March</td>\n",
       "      <td>44</td>\n",
       "    </tr>\n",
       "    <tr>\n",
       "      <th>3</th>\n",
       "      <td>Jack</td>\n",
       "      <td>team_a</td>\n",
       "      <td>23</td>\n",
       "      <td>April</td>\n",
       "      <td>3</td>\n",
       "    </tr>\n",
       "    <tr>\n",
       "      <th>4</th>\n",
       "      <td>Jack</td>\n",
       "      <td>team_a</td>\n",
       "      <td>23</td>\n",
       "      <td>May</td>\n",
       "      <td>21</td>\n",
       "    </tr>\n",
       "    <tr>\n",
       "      <th>...</th>\n",
       "      <td>...</td>\n",
       "      <td>...</td>\n",
       "      <td>...</td>\n",
       "      <td>...</td>\n",
       "      <td>...</td>\n",
       "    </tr>\n",
       "    <tr>\n",
       "      <th>105</th>\n",
       "      <td>Matthew</td>\n",
       "      <td>team_a</td>\n",
       "      <td>13</td>\n",
       "      <td>July</td>\n",
       "      <td>45</td>\n",
       "    </tr>\n",
       "    <tr>\n",
       "      <th>106</th>\n",
       "      <td>Matthew</td>\n",
       "      <td>team_a</td>\n",
       "      <td>13</td>\n",
       "      <td>August</td>\n",
       "      <td>16</td>\n",
       "    </tr>\n",
       "    <tr>\n",
       "      <th>107</th>\n",
       "      <td>Matthew</td>\n",
       "      <td>team_a</td>\n",
       "      <td>13</td>\n",
       "      <td>September</td>\n",
       "      <td>20</td>\n",
       "    </tr>\n",
       "    <tr>\n",
       "      <th>108</th>\n",
       "      <td>Matthew</td>\n",
       "      <td>team_a</td>\n",
       "      <td>13</td>\n",
       "      <td>October</td>\n",
       "      <td>15</td>\n",
       "    </tr>\n",
       "    <tr>\n",
       "      <th>109</th>\n",
       "      <td>Matthew</td>\n",
       "      <td>team_a</td>\n",
       "      <td>13</td>\n",
       "      <td>November</td>\n",
       "      <td>29</td>\n",
       "    </tr>\n",
       "  </tbody>\n",
       "</table>\n",
       "<p>110 rows × 5 columns</p>\n",
       "</div>"
      ],
      "text/plain": [
       "        Name    Team  Games      Month  Scores\n",
       "0       Jack  team_a     23    January      42\n",
       "1       Jack  team_a     23   February      27\n",
       "2       Jack  team_a     23      March      44\n",
       "3       Jack  team_a     23      April       3\n",
       "4       Jack  team_a     23        May      21\n",
       "..       ...     ...    ...        ...     ...\n",
       "105  Matthew  team_a     13       July      45\n",
       "106  Matthew  team_a     13     August      16\n",
       "107  Matthew  team_a     13  September      20\n",
       "108  Matthew  team_a     13    October      15\n",
       "109  Matthew  team_a     13   November      29\n",
       "\n",
       "[110 rows x 5 columns]"
      ]
     },
     "execution_count": 30,
     "metadata": {},
     "output_type": "execute_result"
    }
   ],
   "source": [
    "data.set_index(['Name','Team','Games']).stack().reset_index().rename(columns={'level_3':'Month', 0:'Scores'})"
   ]
  },
  {
   "cell_type": "code",
   "execution_count": null,
   "metadata": {},
   "outputs": [],
   "source": [
    "df[df.apply(lambda x: x['name'].startswith(('A' , 'E','I','O','U')), axis=1)]\n"
   ]
  }
 ],
 "metadata": {
  "interpreter": {
   "hash": "dee797846c17e08ca05bc3ddd2fd55f3cf4fbe28d986f647c8f945c39d79c906"
  },
  "kernelspec": {
   "display_name": "Python 3.7.8 64-bit",
   "language": "python",
   "name": "python3"
  },
  "language_info": {
   "codemirror_mode": {
    "name": "ipython",
    "version": 3
   },
   "file_extension": ".py",
   "mimetype": "text/x-python",
   "name": "python",
   "nbconvert_exporter": "python",
   "pygments_lexer": "ipython3",
   "version": "3.7.8"
  },
  "orig_nbformat": 4
 },
 "nbformat": 4,
 "nbformat_minor": 2
}
