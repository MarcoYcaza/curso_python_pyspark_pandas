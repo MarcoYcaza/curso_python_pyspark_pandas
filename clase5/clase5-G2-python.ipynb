{
 "cells": [
  {
   "cell_type": "code",
   "execution_count": 3,
   "metadata": {},
   "outputs": [
    {
     "name": "stdout",
     "output_type": "stream",
     "text": [
      "Honda\n",
      "Auto de la marca   Honda  y modelo  CR-V   del año 2005\n"
     ]
    }
   ],
   "source": [
    "class Coche:\n",
    "\n",
    "    def __init__(self, marca , modelo ):\n",
    "        self.marca = marca\n",
    "        self.modelo = modelo\n",
    "\n",
    "    def promocionarse(self , year):\n",
    "        self.year =  year\n",
    "        \n",
    "        #return \"Auto de la marca\" + self.marca + \"  \" + self.year\n",
    "        return f\"Auto de la marca   {self.marca}  y modelo  {self.modelo}   del año {self.year }\"    \n",
    "\n",
    "\n",
    "coche1 = Coche(\"Honda\", \"CR-V\")\n",
    "\n",
    "print(coche1.marca)\n",
    "\n",
    "print(coche1.promocionarse(2005))"
   ]
  },
  {
   "cell_type": "markdown",
   "metadata": {},
   "source": [
    "Herencia"
   ]
  },
  {
   "cell_type": "code",
   "execution_count": 61,
   "metadata": {},
   "outputs": [],
   "source": [
    "class Animal:\n",
    "    def __init__(self , isAlive , DNA):\n",
    "        self.isAlive = isAlive\n",
    "        self.DNA = DNA\n",
    "\n",
    "    def obtenerGenoma(self):\n",
    "        return self.DNA\n",
    "\n",
    "    def saludar(self):\n",
    "        return \"Yo soy \""
   ]
  },
  {
   "cell_type": "code",
   "execution_count": 7,
   "metadata": {},
   "outputs": [],
   "source": [
    "#Animal(True,\"AGTCUCTGUAC\").obtenerGenoma()"
   ]
  },
  {
   "cell_type": "code",
   "execution_count": 8,
   "metadata": {},
   "outputs": [],
   "source": [
    "#No olvidar explicar la llamada de un metodo dentro de otro metodo , dentro de la misma clase"
   ]
  },
  {
   "cell_type": "code",
   "execution_count": 86,
   "metadata": {},
   "outputs": [],
   "source": [
    "class Dog(Animal):\n",
    "\n",
    "    def __init__(self , name ,breed, size , isAlive , DNA):\n",
    "        self.name = name\n",
    "        self.breed = breed\n",
    "        self.size = size\n",
    "        \n",
    "        super().__init__(isAlive,DNA)\n",
    "\n",
    "    def saludar(self):\n",
    "        \n",
    "        temp =  super().saludar()\n",
    "        \n",
    "        return temp + self.name\n",
    "        #return Animal.saludar(self) + self.name\n",
    "\n",
    "spike =  Dog(\"Spike\", \"Pastor Aleman\" , \"Grande\", True , \"GTAGUGUA\")\n",
    "\n",
    "\n",
    "class Cat(Animal):\n",
    "\n",
    "    def __init__(self , name ,breed, size , isAlive , DNA):\n",
    "        self.name = name\n",
    "        self.breed = breed\n",
    "        self.size = size\n",
    "        \n",
    "        super().__init__(isAlive,DNA)\n",
    "\n",
    "    def maullar(self):\n",
    "        return f\"Miau Miau , soy  {self.name} \"\n",
    "\n",
    "pelusa =  Cat(\"Pelusa\", \"Siames\" , \"pequeña\", True , \"ATUGCCUG\")"
   ]
  },
  {
   "cell_type": "code",
   "execution_count": 87,
   "metadata": {},
   "outputs": [
    {
     "name": "stdout",
     "output_type": "stream",
     "text": [
      "Yo soy Spike\n",
      "Miau Miau , soy  Pelusa \n"
     ]
    }
   ],
   "source": [
    "print(spike.saludar())\n",
    "print(pelusa.maullar())"
   ]
  },
  {
   "cell_type": "code",
   "execution_count": 75,
   "metadata": {},
   "outputs": [
    {
     "name": "stdout",
     "output_type": "stream",
     "text": [
      "GTAGUGUA\n",
      "ATUGCCUG\n"
     ]
    }
   ],
   "source": [
    "print(spike.obtenerGenoma())\n",
    "print(pelusa.obtenerGenoma())"
   ]
  },
  {
   "cell_type": "code",
   "execution_count": 33,
   "metadata": {},
   "outputs": [],
   "source": [
    "class EXAMPLE:\n",
    "    \n",
    "    def __init__(self,p1,p2):\n",
    "        self.param1  = p1\n",
    "        self.param2  = p2\n",
    "\n",
    "    def  devolverParametro(self):\n",
    "        return self.param1\n",
    "    \n",
    "    def  devolverOperacion(self):\n",
    "\n",
    "        temp =  self.param2 + self.devolverParametro()\n",
    "\n",
    "        return temp\n"
   ]
  },
  {
   "cell_type": "code",
   "execution_count": 34,
   "metadata": {},
   "outputs": [
    {
     "data": {
      "text/plain": [
       "13"
      ]
     },
     "execution_count": 34,
     "metadata": {},
     "output_type": "execute_result"
    }
   ],
   "source": [
    "EXAMPLE(13, 15).devolverParametro()"
   ]
  },
  {
   "cell_type": "code",
   "execution_count": 35,
   "metadata": {},
   "outputs": [
    {
     "data": {
      "text/plain": [
       "28"
      ]
     },
     "execution_count": 35,
     "metadata": {},
     "output_type": "execute_result"
    }
   ],
   "source": [
    "EXAMPLE(13, 15).devolverOperacion()"
   ]
  },
  {
   "cell_type": "code",
   "execution_count": 48,
   "metadata": {},
   "outputs": [],
   "source": [
    "class CALCULADOR:\n",
    "\n",
    "    def __init__(self, n):\n",
    "        self.n  = n\n",
    "\n",
    "    def  factorial(self):\n",
    "\n",
    "        if self.n == 1 :\n",
    "            return 1\n",
    "\n",
    "        temp = self.n\n",
    "        self.n = self.n-1\n",
    "\n",
    "        return  temp * self.factorial()"
   ]
  },
  {
   "cell_type": "code",
   "execution_count": 52,
   "metadata": {},
   "outputs": [
    {
     "data": {
      "text/plain": [
       "1"
      ]
     },
     "execution_count": 52,
     "metadata": {},
     "output_type": "execute_result"
    }
   ],
   "source": [
    "CALCULADOR(1).factorial()"
   ]
  },
  {
   "cell_type": "markdown",
   "metadata": {},
   "source": [
    "https://www.geeksforgeeks.org/method-overriding-in-python/\n",
    "\n",
    "https://ellibrodepython.com/herencia-en-python"
   ]
  },
  {
   "cell_type": "code",
   "execution_count": 88,
   "metadata": {},
   "outputs": [
    {
     "name": "stdout",
     "output_type": "stream",
     "text": [
      "Inside Parent\n",
      "Inside Child\n"
     ]
    }
   ],
   "source": [
    "class Parent():\n",
    "      \n",
    "    def show(self):\n",
    "        print(\"Inside Parent\")\n",
    "        \n",
    "          \n",
    "class Child(Parent):\n",
    "      \n",
    "    def show(self):\n",
    "          \n",
    "        # Calling the parent's class\n",
    "        # method\n",
    "        super().show()\n",
    "        print(\"Inside Child\")\n",
    "          \n",
    "# Driver's code\n",
    "obj = Child()\n",
    "obj.show()"
   ]
  },
  {
   "cell_type": "code",
   "execution_count": null,
   "metadata": {},
   "outputs": [],
   "source": [
    "class Dog:\n",
    "\n",
    "    #def __init__(self):\n",
    "    #   self.accion = lambda p : p     #version 0\n",
    "        \n",
    "    #accion = lambda p : p  #version 1\n",
    "\n",
    "    #def accion(self,p):   #version 2\n",
    "    #    self.p = p        #version 2 \n",
    "    #    return self.p     #version 2\n",
    "    \n",
    "    def bark(self):\n",
    "\n",
    "        #temp = self.accion(\"Estoy Ladrando\") #version 0\n",
    "        \n",
    "        #temp = accion(\"Estoy Ladrando\")  #version 1\n",
    "        \n",
    "        #temp = self.accion(\"Estoy Ladrando\") #version 2\n",
    "        \n",
    "\n",
    "        #accion = lambda p : p          #version 3\n",
    "        #temp = accion(\"Estoy Ladrando\")#version 3\n",
    "        \n",
    "        print(f\"Woof! Woof! { temp }\" )\n",
    "\n",
    "dog = Dog()\n",
    "\n",
    "dog.bark()\n"
   ]
  }
 ],
 "metadata": {
  "interpreter": {
   "hash": "e9d26aef1b45c2698ea6efe547ad5d4a29e612063653693e2b8c59ffe1c6a0ee"
  },
  "kernelspec": {
   "display_name": "Python 3.8.10 64-bit",
   "language": "python",
   "name": "python3"
  },
  "language_info": {
   "codemirror_mode": {
    "name": "ipython",
    "version": 3
   },
   "file_extension": ".py",
   "mimetype": "text/x-python",
   "name": "python",
   "nbconvert_exporter": "python",
   "pygments_lexer": "ipython3",
   "version": "3.8.10"
  },
  "orig_nbformat": 4
 },
 "nbformat": 4,
 "nbformat_minor": 2
}
